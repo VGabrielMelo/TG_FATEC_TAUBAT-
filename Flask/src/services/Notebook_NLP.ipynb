{
 "cells": [
  {
   "cell_type": "code",
   "execution_count": 1,
   "metadata": {},
   "outputs": [],
   "source": [
    "import pandas as pd\n",
    "import numpy as np\n",
    "import json\n",
    "\n",
    "# TRATAMENTO DE TEXTOS\n",
    "import re\n",
    "import nltk\n",
    "stopwords=nltk.corpus.stopwords.words('portuguese')\n"
   ]
  },
  {
   "cell_type": "code",
   "execution_count": 10,
   "metadata": {},
   "outputs": [],
   "source": [
    "df = pd.read_json(r'reviews_merge.json')\n",
    "df = df[['title','avaliacao']]\n",
    "df['avaliacao'] = df['avaliacao'].map({0:'Negativo',1:'Neutro',2:'Positivo', np.nan:'Indefinido'}, na_action=None)\n",
    "base = [tuple(x) for x in df.to_numpy()]\n"
   ]
  },
  {
   "cell_type": "code",
   "execution_count": 186,
   "metadata": {},
   "outputs": [
    {
     "data": {
      "text/html": [
       "<div>\n",
       "<style scoped>\n",
       "    .dataframe tbody tr th:only-of-type {\n",
       "        vertical-align: middle;\n",
       "    }\n",
       "\n",
       "    .dataframe tbody tr th {\n",
       "        vertical-align: top;\n",
       "    }\n",
       "\n",
       "    .dataframe thead th {\n",
       "        text-align: right;\n",
       "    }\n",
       "</style>\n",
       "<table border=\"1\" class=\"dataframe\">\n",
       "  <thead>\n",
       "    <tr style=\"text-align: right;\">\n",
       "      <th></th>\n",
       "      <th>title</th>\n",
       "      <th>avaliacao</th>\n",
       "    </tr>\n",
       "  </thead>\n",
       "  <tbody>\n",
       "  </tbody>\n",
       "</table>\n",
       "</div>"
      ],
      "text/plain": [
       "Empty DataFrame\n",
       "Columns: [title, avaliacao]\n",
       "Index: []"
      ]
     },
     "execution_count": 186,
     "metadata": {},
     "output_type": "execute_result"
    }
   ],
   "source": [
    "df.query('avaliacao == \"Indefinido\"')"
   ]
  },
  {
   "cell_type": "code",
   "execution_count": 187,
   "metadata": {},
   "outputs": [],
   "source": [
    "def fazstemmer(frases):\n",
    "    stemmer = nltk.stem.RSLPStemmer()\n",
    "    frasessstemming = []\n",
    "    for (palavras, emocao) in frases:\n",
    "        comstemming = [str(stemmer.stem(p))\n",
    "                       for p in palavras.split() if p not in stopwords]\n",
    "        frasessstemming.append((comstemming, emocao))\n",
    "    return frasessstemming\n",
    " \n",
    " \n",
    "frasescomstemming = fazstemmer(base)\n",
    "#print(frasescomstemming)"
   ]
  },
  {
   "cell_type": "code",
   "execution_count": 188,
   "metadata": {},
   "outputs": [],
   "source": [
    "def buscapalavras(frases):\n",
    "    todaspalavras = []\n",
    "    for (palavras, emocao) in frases:\n",
    "        todaspalavras.extend(palavras)\n",
    "    return todaspalavras\n",
    " \n",
    "todaspalavras = buscapalavras(frasescomstemming)\n",
    "#print(todaspalavras)"
   ]
  },
  {
   "cell_type": "code",
   "execution_count": 189,
   "metadata": {},
   "outputs": [],
   "source": [
    "def buscafrequencia(palavras):\n",
    "    palavras = nltk.FreqDist(palavras)\n",
    "    return palavras\n",
    "frequencia = buscafrequencia(todaspalavras)\n"
   ]
  },
  {
   "cell_type": "code",
   "execution_count": 190,
   "metadata": {},
   "outputs": [
    {
     "name": "stdout",
     "output_type": "stream",
     "text": [
      "dict_keys(['empr', 'dinâm', 'agrad', 'trabalhar.', 'não', 'perspec', 'cresc', 'carre', 'foi', 'boa', 'experienc', 'trabalhar,', 'oportun', 'funcion', 'respeit', 'plan', 'carg', 'salári', 'risc', '.', 'excel', 'pra', 'trabalh', 'ótim', 'fabric', 'aviões.', 'pont', 'alt', 'tecnologia.', 'pesso', 'educ', 'dinâmica,', 'espirit', 'equip', 'ambi', 'bom', 'sensac', 'bem', 'estrur', 'funcionari', 'trabalho.', 'inst', 'e.pr', 'aplic', 'própri', 'principi', 'melh', 'contínu', 'maravilh', 'educadas,', 'cult', '5', 'estrelas.', 'muit', 'pessoas:', 'problemas.', 'seria:', 'gest', 'problem', 'estrutura.', 'empresa,', 'recom', 'qualqu', 'interess', 'benefícios,', 'colabor', 'sér', 'satisfatór', 'valor', ',', 'lug', 'uma', 'ampl', 'conhec', 'ges', 'sup', 'dedic', 'ensin', 'funcionários.', 'bast', 'preocup', 'funcionários!', 'empre', 'ano', '80', 'ness', 'profiss', 'tud', 'aparent', 'fantas', 'recomendo.', 'exel', 'otím', 'estrut', 'empresa.', 'dificil', 'faz', 'avaliação,', 'poi', 'embra', '37', 'conclu', 'após', 'temp', 'reconhec', 'fiz.', 'potenc', 'por', 'apeg', 'velh', 'trad', 'ruim', 'compet', 'grau', 'desafios.', 'sa', 'modelo,', 'dinamica,', '100%', 'volt', 'aeronautica...', 'melhor', 'emor', 'dinam', 'já', ',ma', 'amizad', 'lá', 'dentr', 'grand', 'sob', 'aliment', 'favors', 'incoveni', 'clim', 'local', 'otim', 'atenci', 'orgulh', 'aprend', 'foc', 'atual', 'proporc', 'industr', 'qu', 'desafi', 'profissionalmente.', 'maravilhosa,', 'qual', 'desenvolv', 'profissional.', 'sustent', 'colaborativa.', 'transform', 'é', 'capac', 'inovar.', 'refer', 'tecnolog', 'agrada', 'a', 'embraer,', 'jov', 'dá', 'aprofund', 'aond', 'cheg', 'profissionais,', 'bom.', 'alinh', 'requisit', 'mercado.', 'top', 'tod', 'sent', 'const', 'investimento.', 'oar', 'entr', 'parent', 'boa,', 'má', 'gestão.', 'ond', 'exist', 'meritocrac', 'desperdíci', 'excelente,', 'benefíci', 'estagi', 'cond', 'organiz', 'dedicada.', 'tradic', 'áre', 'engenharia.', 'mercado,', 'mudanç', 'desempenh', 'grup', 'organizada,', 'fort', 'tecnologia,', 'pessoas.', 'gost', 'nest', 'incr', 'ajud', 'muito.', 'produç', 'almoxarif', 'logís', 'oper', 'empilh', 'port', 'adquir', 'capacit', 'relacion', 'motiv', 'agradável!', 'motivação.', 'sól', 'líd', 'ram', 'inov', 'cativante.', 'avi', 'comerciais,', 'executivos,', 'agrícol', 'militares,', 'peç', 'aeroespaciais,', 'serviç', 'suport', '!', 'boa.', 'extrem', 'import', 'brasil', 'mund', 'efici', 'just', 'porte,', 'competi', 'áreas.', 'conceitu', 'precis', 'cois', 'simpl', 'nacion', 'flex', 'vis', 'cen', 'mundial.', 'vari', 'benefici', 'mental', 'arca', 'sempr', 'atualizada,', 'colaboradores.', 'constru', 'carr', 'situ', 'visionár', 'futur', 'promis', 'invest', 'prepar', 'engenh', 'seg', 'val', 'valoriz', 'est', 'atent', 'necess', 'funcionarios,', 'evoluç', 'trabalhar.ót', 'salário.', 'faz.', 'brasileiro.', 'descontra', 'entrev', 'rápid', 'conform', 'cm', 'equipe,', 'conheço,', 'liter', 'deix', 'trá', 'humana,', 'famil', 'jovem,', 'funcionário.', 'amo', 'me', 'arrep', 'ter', 'saído.', 'espetacul', 'engaj', 'human', 'gerenc', 'injust', 'desum', 'benefícios.', 'e', 'satisfeit', 'permit', 'cri', 'realizem.', 'fez', 'mim', 'hoj', 'supervis', 'péssima!!', 'funcionários,oferec', 'premi', 'incentiv', 'ating', 'metas.', 'pess', 'tranquila,', 'chegando.', 'péss', 'pod', 'ser', 'dm', 'corret', 'mto', 'único', 'cad', 'um.', 'pi', 'hor', 'exelente,', 'funcionários+.', 'muitiss', 'incri', 'trabalho,', 'agradável.', 'empresa!!', 'agradavél', 'tranquil', 'empress', 'dinamica,ot', 'trabalhar,aprend', 'ela,hoj', 'através', 'dess', 'deu', 'oportunidade.', 'client', 'abord', 'met', 'comunicaçao.lembranç', 'positivas.', 'com', 'princípi', 'agradabiliss', 'apes', 'rotat', 'de', 'funcinari', 'responsável.', 'era', 'pequen', 'ascença', 'aprendiz', 'familiar,', 'expansão.', 'razoa', 'dmcard', 'porte.', 'corr', 'gratific', 'respons', 'colaborador.', 'estruturada.', 'matér', 'seguranç', 'limp', 'perfeito.', 'sim', 'valorizados,', 'organizado.', 'comentari', 'odi', 'nel', 'experi', 'peculiar.', 'um', 'saud', 'enpr', 'oferec', 'carreira.', 'simpá', 'diversific', 'agreg', 'sst', 'agradável,', 'organizacional.', 'ativa...', 'no', 'geral', 'dinâmico,', 'organizando,', 'tecnológico.', 'vid', 'petrobr', '💕❤️', 'privatizada.', 'desqualific', 'pessoal', 'funç', 'fácil', 'desaconselh', 'mai', 'país', 'compromet', 'respeitável.', 'só', 'lament', 'trat', 'dispens', 'aposentados.', 'terceir', 'aprimor', 'técnico.', 'terc', 'aproveit', 'excelente.', 'país.', 'grande,', 'processos.', 'responsável,', 'prioriz', 'cuid', 'segment', 'distribu', 'combust', 'lubrific', 'competitiva.', 'ela', 'simples', 'dal', 'enorm', 'divers', 'conhecimentos.', 'ric', 'conteúd', 'eu', 'salari', 'tercer', 'abaix', 'merc', 'agradà', 'possu', 'laboral.', 'prest', 'perfeit', 'equipe.', 'abus', 'porém', 'estress', 'pen', 'o', 'empreg', 'minh', 'crescimento,', 'desvi', 'superintend', 'tendenci', 'esper', 'banc', 'pouc', 'prát', 'ame', 'itaú', 'quer', 'estági', 'lind', 'ver', 'propagand', 'dentro...', 'atenciosos.', 'baixo,', 'estressante,', 'nenhum', 'ferramentas,', 'press', 'entreg', 'agress', 'vc', 'conviv', 'recei', 'deslig', 'trabalhar.sup', 'indic', 'iníci', 'pag', 'dia,', 'superi', 'intens', 'financ', 'adoec', 'sem', 'duvidas,', 'epoc', 'escolh', 'ambos.', 'tamb', 'contratar.', 'hp', 'aqu', 'nov', 'seu', 'outsourcing', 'péssimo!', 'insatisfeit', 'necessit', 'metodolog', 'ilusã', 'lid', 'tecnologias.', 'possibil', 'pcd', 'inv', 'form', 'inflexível,', 'par', 'tempo.', 'atu', 'sobr', 'presso', 'atuação:', 'projet', 'autom', 'nao', 'lent', 'engess', 'produt', 'interna.', 'trabalhar..', 'flexi', 'contat', 'dirigentes.', 'obje', 'claros.', 'shell', 'recinhec', 'estabil', '/promoç', 'regul', 'trein', 'organizac', 'ha', 'cobranç', 'process', 'redefin', 'estratég', 'norm', 'perd', 'emprego......', 'dar', 'oportunidades,', 'porem,', 'porém,', 'atend', 'mesm', 'desejar.', 'empresar', 'acess', 'instal', 'estruturada,', 'remuner', 'baix', 'modern', 'liberdad', 'burocrac', 'resum', 'avali', 'escol', 'consum', 'cumpr', 'opin', 'acab', 'emoc', 'explor', 'desorgan', 'ambent', 'hostil', 'potênc', 'porte,qu', 'lad', 'extint', 'transport', 'mal', 'administr', 'que', 'em', 'nada.', 'proveit', 'dur', 'pespec', 'polít', 'rh,', 'funcionário,', 'atras', 'socials.', 'peg', 'promoç', 'imcopet', 'promoçoes,', 'fardamento,epil', 'beneficios.', 'dinâmica.', 'prim', 'emprego.', 'sufoc', 'dist', 'total', 'parc', 'despreparada.', 'mercen', 'unid', 'falt', 'finance', 'comunic', 'pes', 'flexível.', 'horr', 'ridícul', 'aí', 'nunc', 'ódi', 'ess', 'jamal', 'lideranç', 'chef'])\n"
     ]
    }
   ],
   "source": [
    "def busca_palavrasunicas(frequencia):\n",
    "    freq = frequencia.keys()\n",
    "    return freq\n",
    " \n",
    "palavrasunicas = busca_palavrasunicas(frequencia)\n",
    "print(palavrasunicas)"
   ]
  },
  {
   "cell_type": "code",
   "execution_count": 191,
   "metadata": {},
   "outputs": [],
   "source": [
    "def extrai_palavras(documento):\n",
    "    doc = set(documento)\n",
    "    caracteristicas = {}\n",
    "    for palavras in palavrasunicas:\n",
    "        caracteristicas['%s' % palavras] = (palavras in doc)\n",
    "    return caracteristicas"
   ]
  },
  {
   "cell_type": "code",
   "execution_count": 192,
   "metadata": {},
   "outputs": [],
   "source": [
    "basecompleta = nltk.classify.apply_features(extrai_palavras,frasescomstemming)"
   ]
  },
  {
   "cell_type": "code",
   "execution_count": 193,
   "metadata": {},
   "outputs": [],
   "source": [
    "classificador = nltk.NaiveBayesClassifier.train(basecompleta) "
   ]
  },
  {
   "cell_type": "code",
   "execution_count": 252,
   "metadata": {},
   "outputs": [
    {
     "name": "stdout",
     "output_type": "stream",
     "text": [
      "[['ess', 'empr', 'é', 'péss'], ['a', 'empr', 'é', 'boa']]\n"
     ]
    }
   ],
   "source": [
    "frases_Novas = ['Essa Empresa é péssima','A empresa é boa']\n",
    "stemmer = nltk.stem.RSLPStemmer()\n",
    "frase_resultado =[]\n",
    "for i in frases_Novas:\n",
    "    frase= i\n",
    "    frase_i = []\n",
    "    for (palavras) in frase.split():\n",
    "        comstem = [p for p in palavras.split()]\n",
    "        frase_i.append(str(stemmer.stem(comstem[0])))\n",
    "    frase_resultado.append(frase_i)\n",
    "print(frase_resultado)"
   ]
  },
  {
   "cell_type": "code",
   "execution_count": 195,
   "metadata": {},
   "outputs": [
    {
     "name": "stdout",
     "output_type": "stream",
     "text": [
      "-----------------------\n",
      "Positivo: 0.013587\n",
      "Negativo: 0.985585\n",
      "Neutro: 0.000828\n",
      "-----------------------\n",
      "Positivo: 0.998483\n",
      "Negativo: 0.001375\n",
      "Neutro: 0.000143\n"
     ]
    }
   ],
   "source": [
    "for i in frase_resultado:\n",
    "    nova_frase = extrai_palavras(i)\n",
    " \n",
    "    distribuicao = classificador.prob_classify(nova_frase)\n",
    "    print('-----------------------')\n",
    "    for classe in distribuicao.samples():\n",
    "        print(\"%s: %f\" % (classe, distribuicao.prob(classe)))"
   ]
  },
  {
   "cell_type": "code",
   "execution_count": 255,
   "metadata": {},
   "outputs": [],
   "source": [
    "resultado =[]\n",
    "for i in frase_resultado:\n",
    "    nova_frase = extrai_palavras(i)\n",
    "    distribuicao = classificador.prob_classify(nova_frase)\n",
    "    for classe in distribuicao.samples():\n",
    "        resultado.append([classe, distribuicao.prob(classe)])"
   ]
  }
 ],
 "metadata": {
  "interpreter": {
   "hash": "a007c8b43fa0e4ea829fc148dd38d8a85738460b8a692730e9a3038d52bcd987"
  },
  "kernelspec": {
   "display_name": "Python 3.10.4 64-bit",
   "language": "python",
   "name": "python3"
  },
  "language_info": {
   "codemirror_mode": {
    "name": "ipython",
    "version": 3
   },
   "file_extension": ".py",
   "mimetype": "text/x-python",
   "name": "python",
   "nbconvert_exporter": "python",
   "pygments_lexer": "ipython3",
   "version": "3.10.4"
  },
  "orig_nbformat": 4
 },
 "nbformat": 4,
 "nbformat_minor": 2
}
