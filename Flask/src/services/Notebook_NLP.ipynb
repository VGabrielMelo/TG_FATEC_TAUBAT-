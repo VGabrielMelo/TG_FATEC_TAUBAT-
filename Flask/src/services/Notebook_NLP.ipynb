{
 "cells": [
  {
   "cell_type": "code",
   "execution_count": 1,
   "metadata": {},
   "outputs": [],
   "source": [
    "import pandas as pd\n",
    "import numpy as np\n",
    "import json\n",
    "\n",
    "# TRATAMENTO DE TEXTOS\n",
    "import re\n",
    "import nltk\n",
    "stopwords=nltk.corpus.stopwords.words('portuguese')\n"
   ]
  },
  {
   "cell_type": "code",
   "execution_count": 2,
   "metadata": {},
   "outputs": [],
   "source": [
    "df = pd.read_json(r'reviews_merge.json')\n",
    "df = df[['title','avaliacao']]\n",
    "df['avaliacao'] = df['avaliacao'].map({0:'Negativo',1:'Neutro',2:'Positivo', np.nan:'Indefinido'}, na_action=None)\n",
    "base = [tuple(x) for x in df.to_numpy()]\n"
   ]
  },
  {
   "cell_type": "code",
   "execution_count": 3,
   "metadata": {},
   "outputs": [
    {
     "data": {
      "text/html": [
       "<div>\n",
       "<style scoped>\n",
       "    .dataframe tbody tr th:only-of-type {\n",
       "        vertical-align: middle;\n",
       "    }\n",
       "\n",
       "    .dataframe tbody tr th {\n",
       "        vertical-align: top;\n",
       "    }\n",
       "\n",
       "    .dataframe thead th {\n",
       "        text-align: right;\n",
       "    }\n",
       "</style>\n",
       "<table border=\"1\" class=\"dataframe\">\n",
       "  <thead>\n",
       "    <tr style=\"text-align: right;\">\n",
       "      <th></th>\n",
       "      <th>title</th>\n",
       "      <th>avaliacao</th>\n",
       "    </tr>\n",
       "  </thead>\n",
       "  <tbody>\n",
       "  </tbody>\n",
       "</table>\n",
       "</div>"
      ],
      "text/plain": [
       "Empty DataFrame\n",
       "Columns: [title, avaliacao]\n",
       "Index: []"
      ]
     },
     "execution_count": 3,
     "metadata": {},
     "output_type": "execute_result"
    }
   ],
   "source": [
    "df.query('avaliacao == \"Indefinido\"')"
   ]
  },
  {
   "cell_type": "code",
   "execution_count": 4,
   "metadata": {},
   "outputs": [],
   "source": [
    "def fazstemmer(frases):\n",
    "    stemmer = nltk.stem.RSLPStemmer()\n",
    "    frasessstemming = []\n",
    "    for (palavras, emocao) in frases:\n",
    "        comstemming = [str(stemmer.stem(p))\n",
    "                       for p in palavras.split() if p not in stopwords]\n",
    "        frasessstemming.append((comstemming, emocao))\n",
    "    return frasessstemming\n",
    " \n",
    " \n",
    "frasescomstemming = fazstemmer(base)\n",
    "#print(frasescomstemming)"
   ]
  },
  {
   "cell_type": "code",
   "execution_count": 5,
   "metadata": {},
   "outputs": [],
   "source": [
    "def buscapalavras(frases):\n",
    "    todaspalavras = []\n",
    "    for (palavras, emocao) in frases:\n",
    "        todaspalavras.extend(palavras)\n",
    "    return todaspalavras\n",
    " \n",
    "todaspalavras = buscapalavras(frasescomstemming)\n",
    "#print(todaspalavras)"
   ]
  },
  {
   "cell_type": "code",
   "execution_count": 6,
   "metadata": {},
   "outputs": [],
   "source": [
    "def buscafrequencia(palavras):\n",
    "    palavras = nltk.FreqDist(palavras)\n",
    "    return palavras\n",
    "frequencia = buscafrequencia(todaspalavras)\n"
   ]
  },
  {
   "cell_type": "code",
   "execution_count": 7,
   "metadata": {},
   "outputs": [],
   "source": [
    "def busca_palavrasunicas(frequencia):\n",
    "    freq = frequencia.keys()\n",
    "    return freq\n",
    " \n",
    "palavrasunicas = busca_palavrasunicas(frequencia)\n",
    "#print(palavrasunicas)"
   ]
  },
  {
   "cell_type": "code",
   "execution_count": 8,
   "metadata": {},
   "outputs": [
    {
     "data": {
      "text/html": [
       "<div>\n",
       "<style scoped>\n",
       "    .dataframe tbody tr th:only-of-type {\n",
       "        vertical-align: middle;\n",
       "    }\n",
       "\n",
       "    .dataframe tbody tr th {\n",
       "        vertical-align: top;\n",
       "    }\n",
       "\n",
       "    .dataframe thead th {\n",
       "        text-align: right;\n",
       "    }\n",
       "</style>\n",
       "<table border=\"1\" class=\"dataframe\">\n",
       "  <thead>\n",
       "    <tr style=\"text-align: right;\">\n",
       "      <th></th>\n",
       "      <th>title</th>\n",
       "      <th>avaliacao</th>\n",
       "    </tr>\n",
       "  </thead>\n",
       "  <tbody>\n",
       "    <tr>\n",
       "      <th>0</th>\n",
       "      <td>Empresa dinâmica e agradável de trabalhar.</td>\n",
       "      <td>Positivo</td>\n",
       "    </tr>\n",
       "    <tr>\n",
       "      <th>1</th>\n",
       "      <td>Não tem perspectiva de de crescimento de carreia</td>\n",
       "      <td>Negativo</td>\n",
       "    </tr>\n",
       "    <tr>\n",
       "      <th>2</th>\n",
       "      <td>Foi uma boa experiencia</td>\n",
       "      <td>Positivo</td>\n",
       "    </tr>\n",
       "    <tr>\n",
       "      <th>3</th>\n",
       "      <td>Empresa muito boa de se trabalhar, da oportuni...</td>\n",
       "      <td>Positivo</td>\n",
       "    </tr>\n",
       "    <tr>\n",
       "      <th>4</th>\n",
       "      <td>Excelente empresa pra trabalhar</td>\n",
       "      <td>Positivo</td>\n",
       "    </tr>\n",
       "  </tbody>\n",
       "</table>\n",
       "</div>"
      ],
      "text/plain": [
       "                                               title avaliacao\n",
       "0         Empresa dinâmica e agradável de trabalhar.  Positivo\n",
       "1   Não tem perspectiva de de crescimento de carreia  Negativo\n",
       "2                            Foi uma boa experiencia  Positivo\n",
       "3  Empresa muito boa de se trabalhar, da oportuni...  Positivo\n",
       "4                    Excelente empresa pra trabalhar  Positivo"
      ]
     },
     "execution_count": 8,
     "metadata": {},
     "output_type": "execute_result"
    }
   ],
   "source": [
    "df.head()"
   ]
  },
  {
   "cell_type": "code",
   "execution_count": 9,
   "metadata": {},
   "outputs": [],
   "source": [
    "def extrai_palavras(documento):\n",
    "    doc = set(documento)\n",
    "    caracteristicas = {}\n",
    "    for palavras in palavrasunicas:\n",
    "        caracteristicas['%s' % palavras] = (palavras in doc)\n",
    "    return caracteristicas"
   ]
  },
  {
   "cell_type": "code",
   "execution_count": 10,
   "metadata": {},
   "outputs": [],
   "source": [
    "basecompleta = nltk.classify.apply_features(extrai_palavras,frasescomstemming)"
   ]
  },
  {
   "cell_type": "code",
   "execution_count": 11,
   "metadata": {},
   "outputs": [],
   "source": [
    "classificador = nltk.NaiveBayesClassifier.train(basecompleta) "
   ]
  },
  {
   "cell_type": "code",
   "execution_count": 12,
   "metadata": {},
   "outputs": [],
   "source": [
    "df = df[['title']]"
   ]
  },
  {
   "cell_type": "code",
   "execution_count": 13,
   "metadata": {},
   "outputs": [
    {
     "data": {
      "text/html": [
       "<div>\n",
       "<style scoped>\n",
       "    .dataframe tbody tr th:only-of-type {\n",
       "        vertical-align: middle;\n",
       "    }\n",
       "\n",
       "    .dataframe tbody tr th {\n",
       "        vertical-align: top;\n",
       "    }\n",
       "\n",
       "    .dataframe thead th {\n",
       "        text-align: right;\n",
       "    }\n",
       "</style>\n",
       "<table border=\"1\" class=\"dataframe\">\n",
       "  <thead>\n",
       "    <tr style=\"text-align: right;\">\n",
       "      <th></th>\n",
       "      <th>title</th>\n",
       "    </tr>\n",
       "  </thead>\n",
       "  <tbody>\n",
       "    <tr>\n",
       "      <th>0</th>\n",
       "      <td>Empresa dinâmica e agradável de trabalhar.</td>\n",
       "    </tr>\n",
       "    <tr>\n",
       "      <th>1</th>\n",
       "      <td>Não tem perspectiva de de crescimento de carreia</td>\n",
       "    </tr>\n",
       "    <tr>\n",
       "      <th>2</th>\n",
       "      <td>Foi uma boa experiencia</td>\n",
       "    </tr>\n",
       "    <tr>\n",
       "      <th>3</th>\n",
       "      <td>Empresa muito boa de se trabalhar, da oportuni...</td>\n",
       "    </tr>\n",
       "    <tr>\n",
       "      <th>4</th>\n",
       "      <td>Excelente empresa pra trabalhar</td>\n",
       "    </tr>\n",
       "  </tbody>\n",
       "</table>\n",
       "</div>"
      ],
      "text/plain": [
       "                                               title\n",
       "0         Empresa dinâmica e agradável de trabalhar.\n",
       "1   Não tem perspectiva de de crescimento de carreia\n",
       "2                            Foi uma boa experiencia\n",
       "3  Empresa muito boa de se trabalhar, da oportuni...\n",
       "4                    Excelente empresa pra trabalhar"
      ]
     },
     "execution_count": 13,
     "metadata": {},
     "output_type": "execute_result"
    }
   ],
   "source": [
    "df.head()"
   ]
  },
  {
   "cell_type": "code",
   "execution_count": null,
   "metadata": {},
   "outputs": [],
   "source": []
  },
  {
   "cell_type": "code",
   "execution_count": 14,
   "metadata": {},
   "outputs": [],
   "source": [
    "frases_Novas = df.values.tolist()\n",
    "stemmer = nltk.stem.RSLPStemmer()\n",
    "frase_resultado =[]\n",
    "cont = 0\n",
    "for i in frases_Novas:\n",
    "    frase = frases_Novas[cont][0]\n",
    "    frase_i = []\n",
    "    for (palavras) in frase.split():\n",
    "        comstem = [p for p in palavras.split()]\n",
    "        frase_i.append(str(stemmer.stem(comstem[0])))\n",
    "    frase_resultado.append(frase_i)\n",
    "    cont = cont + 1\n",
    "#print(frase_resultado)"
   ]
  },
  {
   "cell_type": "code",
   "execution_count": 34,
   "metadata": {},
   "outputs": [
    {
     "data": {
      "text/plain": [
       "{'total': 711, 'positivo': 533, 'negativo': 135, 'neutro': 43}"
      ]
     },
     "execution_count": 34,
     "metadata": {},
     "output_type": "execute_result"
    }
   ],
   "source": [
    "resultado = []\n",
    "for i in frase_resultado:\n",
    "    nova_frase = extrai_palavras(i)\n",
    " \n",
    "    distribuicao = classificador.prob_classify(nova_frase).max()\n",
    "    resultado.append(distribuicao)\n",
    "    #print('-----------------------')\n",
    "    #for classe in distribuicao.samples():\n",
    "    #    print(\"%s: %f\" % (classe, distribuicao.prob(classe)))\n",
    "response = {\n",
    "                'total':len(resultado),\n",
    "                'positivo': resultado.count('Positivo'),\n",
    "                'negativo': resultado.count('Negativo'),\n",
    "                'neutro': resultado.count('Neutro')\n",
    "            }\n",
    "\n",
    "\n",
    "response\n"
   ]
  },
  {
   "cell_type": "code",
   "execution_count": null,
   "metadata": {},
   "outputs": [],
   "source": []
  },
  {
   "cell_type": "code",
   "execution_count": null,
   "metadata": {},
   "outputs": [],
   "source": [
    "resultado =[]\n",
    "id = 0\n",
    "for i in frase_resultado:\n",
    "    nova_frase = extrai_palavras(i)\n",
    "    distribuicao = classificador.prob_classify(nova_frase)\n",
    "    for classe in distribuicao.samples():\n",
    "        if float(distribuicao.prob(classe)) > 0.50000:\n",
    "            resultado.append([classe, distribuicao.prob(classe), id])\n",
    "    id = id + 1\n"
   ]
  },
  {
   "cell_type": "code",
   "execution_count": null,
   "metadata": {},
   "outputs": [
    {
     "name": "stdout",
     "output_type": "stream",
     "text": [
      "[['Positivo', 0.9989254181608643, 0], ['Negativo', 0.9976132130682884, 1], ['Positivo', 0.9799301940069632, 2], ['Neutro', 0.9609950290801835, 3], ['Positivo', 0.9997473554797592, 4], ['Positivo', 0.9919821767969101, 5], ['Neutro', 0.8672240020523168, 6], ['Positivo', 0.8473777721059028, 7], ['Positivo', 0.6925260192584818, 8], ['Positivo', 0.992076971887783, 9], ['Positivo', 0.8410771813382873, 10], ['Positivo', 0.9983921441881475, 11], ['Positivo', 0.9741331129678017, 12], ['Positivo', 0.9991799426308129, 13], ['Positivo', 0.9945331126504883, 14], ['Negativo', 0.6739116927441621, 15], ['Positivo', 0.9760388516199693, 16], ['Positivo', 0.9845108356878308, 17], ['Positivo', 0.7248091946605039, 18], ['Positivo', 0.9188143014744171, 19], ['Positivo', 0.9982045613682802, 20], ['Negativo', 0.9995477388861906, 21], ['Positivo', 0.9078856409850816, 22], ['Positivo', 0.903680498922975, 23], ['Negativo', 0.9994767757725364, 24], ['Positivo', 0.9968474307975431, 25], ['Positivo', 0.9993370060908218, 26], ['Positivo', 0.9999700174902142, 27], ['Positivo', 0.9741331129678017, 28], ['Positivo', 0.9958367960199792, 29], ['Positivo', 0.9890737838296831, 30], ['Positivo', 0.9987064074268598, 31], ['Positivo', 0.8890848104109993, 32], ['Positivo', 0.9979322493131088, 33], ['Positivo', 0.9972620502619403, 34], ['Positivo', 0.9983921441881475, 35], ['Positivo', 0.9995064303694703, 36], ['Neutro', 0.9321340273936453, 37], ['Positivo', 0.5696869836559456, 38], ['Positivo', 0.9843473781669317, 39], ['Neutro', 0.8187086641450658, 40], ['Positivo', 0.9958367960199792, 41], ['Positivo', 0.9928652076114591, 42], ['Negativo', 0.5975679496086371, 43], ['Positivo', 0.9999777226413806, 44], ['Negativo', 0.9998034553835456, 45], ['Positivo', 0.8040961145549929, 46], ['Positivo', 0.9662512529458142, 47], ['Positivo', 0.9712062630684072, 48], ['Positivo', 0.9296783522677731, 49], ['Positivo', 0.9890737838296831, 50], ['Positivo', 0.8494315215854058, 51], ['Positivo', 0.9969600975660592, 52], ['Negativo', 0.9974730228182632, 53], ['Positivo', 0.9987064074268598, 54], ['Neutro', 0.9962832766095115, 55], ['Negativo', 0.8828691748883887, 56], ['Positivo', 0.9970087243289656, 57], ['Positivo', 0.7198282596966867, 58], ['Positivo', 0.8868529362908423, 60], ['Positivo', 0.9987064074268598, 61], ['Positivo', 0.992076971887783, 62], ['Positivo', 0.8848224990456155, 63], ['Positivo', 0.9997175489625839, 64], ['Positivo', 0.9776976173946041, 65], ['Positivo', 0.9957867550625884, 66], ['Positivo', 0.874741088582786, 67], ['Positivo', 0.9427696374643877, 68], ['Positivo', 0.9987064074268598, 69], ['Positivo', 0.9611687168817906, 70], ['Negativo', 0.9499338025823463, 71], ['Positivo', 0.9966488380360073, 72], ['Positivo', 0.9956356800985102, 73], ['Positivo', 0.9969124368384987, 74], ['Positivo', 0.9957867550625884, 75], ['Positivo', 0.9746394248737803, 76], ['Positivo', 0.9842123267859451, 77], ['Positivo', 0.9957733511642992, 78], ['Positivo', 0.9993265386554385, 79], ['Positivo', 0.9901680198993527, 80], ['Positivo', 0.9945331126504883, 81], ['Positivo', 0.9987064074268598, 82], ['Positivo', 0.9741331129678029, 83], ['Positivo', 0.9777627993314546, 84], ['Negativo', 0.8225995094282341, 85], ['Positivo', 0.9957733511642992, 86], ['Positivo', 0.9974736275299874, 87], ['Positivo', 0.9563878268748418, 88], ['Positivo', 0.9953175887838167, 89], ['Positivo', 0.9957733511642992, 90], ['Positivo', 0.9901975998815471, 91], ['Positivo', 0.9983921441881475, 92], ['Positivo', 0.9992226922400946, 93], ['Positivo', 0.9929184003589206, 94], ['Positivo', 0.9998354097746076, 95], ['Positivo', 0.9901592651698918, 96], ['Positivo', 0.9900506142027619, 97], ['Positivo', 0.9934311607443803, 98], ['Positivo', 0.9983921441881475, 99], ['Positivo', 0.9958367960199792, 100], ['Positivo', 0.9979322493131088, 101], ['Positivo', 0.992076971887783, 102], ['Positivo', 0.992076971887783, 103], ['Positivo', 0.9985680284226579, 104], ['Positivo', 0.9430567635662764, 105], ['Positivo', 0.9721121008163389, 107], ['Positivo', 0.5976703271429613, 108], ['Positivo', 0.9919821767969101, 109], ['Positivo', 0.9838653369243833, 110], ['Neutro', 0.9979272362880367, 111], ['Positivo', 0.998379625281867, 112], ['Positivo', 0.9966488380360073, 113], ['Positivo', 0.6061879740204396, 114], ['Positivo', 0.7072134272700186, 115], ['Positivo', 0.9818793890548676, 116], ['Positivo', 0.998379625281867, 117], ['Positivo', 0.8837445116648003, 118], ['Positivo', 0.9938613107557809, 119], ['Positivo', 0.985225797101036, 120], ['Positivo', 0.9972579734558993, 121], ['Positivo', 0.9987064074268598, 122], ['Positivo', 0.9801426082896632, 123], ['Positivo', 0.9809532263916676, 124], ['Positivo', 0.9989079888002184, 125], ['Negativo', 0.9413603879956405, 126], ['Negativo', 0.9788207348345985, 127], ['Positivo', 0.9753699311372199, 128], ['Positivo', 0.9987064074268598, 129], ['Positivo', 0.9875043106698326, 130], ['Positivo', 0.9987064074268598, 131], ['Positivo', 0.9987064074268598, 132], ['Positivo', 0.9982045613682802, 133], ['Positivo', 0.9987064074268598, 134], ['Positivo', 0.975370247929909, 135], ['Positivo', 0.9843473781669317, 136], ['Positivo', 0.9326856171392217, 137], ['Positivo', 0.997329085407456, 138], ['Negativo', 0.999631294742448, 139], ['Positivo', 0.9957037226456734, 140], ['Positivo', 0.9560505412176575, 141], ['Positivo', 0.9989457656946268, 142], ['Positivo', 0.9891083876715216, 143], ['Positivo', 0.9992226922400946, 144], ['Positivo', 0.9958367960199792, 145], ['Positivo', 0.9950715395760882, 146], ['Positivo', 0.9789489066405485, 147], ['Neutro', 0.9749047146282831, 148], ['Positivo', 0.992076971887783, 149], ['Positivo', 0.6954703482472899, 150], ['Positivo', 0.9957867550625884, 151], ['Positivo', 0.9983921441881475, 152], ['Positivo', 0.992076971887783, 153], ['Positivo', 0.9987064074268598, 154], ['Positivo', 0.9997165636314133, 155], ['Positivo', 0.9994214691257406, 156], ['Negativo', 0.9589874257181757, 157], ['Positivo', 0.9983921441881475, 158], ['Positivo', 0.9983921441881475, 159], ['Positivo', 0.5922268443087702, 160], ['Positivo', 0.9995798040282423, 161], ['Positivo', 0.9983921441881475, 162], ['Positivo', 0.9971081296620866, 163], ['Neutro', 0.9996187183807342, 164], ['Positivo', 0.9951252987505222, 165], ['Positivo', 0.9901680198993527, 166], ['Positivo', 0.998379625281867, 167], ['Positivo', 0.9995076004768961, 168], ['Neutro', 0.6158427431409635, 169], ['Positivo', 0.9983921441881475, 170], ['Positivo', 0.9987064074268598, 171], ['Positivo', 0.9999024624807826, 172], ['Positivo', 0.9838653369243833, 173], ['Positivo', 0.9962231930692765, 174], ['Positivo', 0.9746394248737803, 175], ['Positivo', 0.5424252069197074, 176], ['Positivo', 0.9894864277583857, 177], ['Positivo', 0.6842849291045261, 178], ['Positivo', 0.9991419812232732, 179], ['Positivo', 0.8957671450371499, 180], ['Negativo', 0.7676374221105086, 181], ['Positivo', 0.9953076232794201, 182], ['Positivo', 0.9685543103883263, 183], ['Positivo', 0.9911438620410487, 184], ['Positivo', 0.9856745737255235, 185], ['Positivo', 0.9848637388586591, 186], ['Neutro', 0.9999999970892618, 187], ['Positivo', 0.9891938784197901, 188], ['Positivo', 0.9983921441881475, 189], ['Positivo', 0.9432250685934539, 190], ['Neutro', 0.5731980022952995, 191], ['Positivo', 0.9668151860203796, 192], ['Positivo', 0.9971370312887873, 193], ['Positivo', 0.9890737838296831, 194], ['Positivo', 0.9983921441881475, 195], ['Positivo', 0.990498282554043, 196], ['Positivo', 0.9890737838296831, 197], ['Positivo', 0.9901680198993527, 198], ['Neutro', 0.5078695163548679, 199], ['Positivo', 0.5984375252759508, 200], ['Positivo', 0.9970219648375633, 201], ['Positivo', 0.6121050754997847, 202], ['Positivo', 0.998379625281867, 203], ['Positivo', 0.9250430680413719, 204], ['Positivo', 0.7904040113974212, 205], ['Positivo', 0.9987064074268598, 206], ['Positivo', 0.9987064074268598, 207], ['Positivo', 0.992076971887783, 208], ['Positivo', 0.9890737838296831, 209], ['Positivo', 0.98784133181683, 210], ['Positivo', 0.9669796116325022, 211], ['Neutro', 0.796014362640682, 212], ['Positivo', 0.9340200814025788, 213], ['Positivo', 0.9928652076114591, 214], ['Positivo', 0.9951252987505222, 215], ['Positivo', 0.9995076004768961, 216], ['Positivo', 0.9731948734288999, 217], ['Negativo', 0.9863481838296537, 218], ['Positivo', 0.7496060351615046, 219], ['Positivo', 0.967532925628295, 220], ['Positivo', 0.7403057112348417, 221], ['Positivo', 0.9997193589150706, 222], ['Positivo', 0.9982045613682802, 223], ['Negativo', 0.9736583743787538, 224], ['Positivo', 0.9987064074268598, 225], ['Positivo', 0.9901680198993527, 226], ['Positivo', 0.9789489066405485, 227], ['Positivo', 0.9987064074268598, 228], ['Positivo', 0.9995076004768961, 229], ['Positivo', 0.9983921441881475, 230], ['Positivo', 0.992076971887783, 231], ['Positivo', 0.9901680198993527, 232], ['Positivo', 0.9992226922400946, 233], ['Positivo', 0.907885640985095, 234], ['Positivo', 0.9135042575339428, 235], ['Positivo', 0.9983921441881475, 236], ['Positivo', 0.8179069449065495, 237], ['Positivo', 0.993121138897571, 238], ['Positivo', 0.8607276147619504, 239], ['Positivo', 0.9875043106698326, 240], ['Positivo', 0.9933964473572486, 241], ['Positivo', 0.9721121008163389, 242], ['Positivo', 0.9996527369358066, 243], ['Positivo', 0.9419999311690122, 244], ['Positivo', 0.9915067850566293, 245], ['Positivo', 0.9999024624807826, 246], ['Positivo', 0.7092543172364997, 247], ['Positivo', 0.9901680198993527, 248], ['Positivo', 0.975370247929909, 249], ['Positivo', 0.9996527369358066, 250], ['Positivo', 0.948584972566877, 251], ['Positivo', 0.996644612778065, 252], ['Positivo', 0.9691577436243919, 253], ['Positivo', 0.960382429961834, 254], ['Positivo', 0.7336161898875483, 255], ['Positivo', 0.9983921441881475, 256], ['Positivo', 0.9890737838296831, 257], ['Positivo', 0.9989689656461964, 258], ['Positivo', 0.9984046190932585, 259], ['Positivo', 0.8868529362908423, 260], ['Positivo', 0.9887709388243312, 261], ['Positivo', 0.9982045613682802, 262], ['Positivo', 0.9731751882859194, 263], ['Positivo', 0.975370247929909, 264], ['Neutro', 0.9894173909205887, 265], ['Positivo', 0.997329085407456, 266], ['Positivo', 0.9925938476372522, 267], ['Positivo', 0.9860347423628975, 268], ['Positivo', 0.9919821767969101, 269], ['Positivo', 0.9987064074268598, 270], ['Negativo', 0.6191978100136298, 271], ['Positivo', 0.9983921441881475, 272], ['Positivo', 0.9947760962066333, 273], ['Positivo', 0.9877029552744465, 274], ['Positivo', 0.9994251734471731, 275], ['Positivo', 0.8016284687911035, 277], ['Positivo', 0.9988223605529655, 278], ['Negativo', 0.9296646909718748, 279], ['Positivo', 0.9969600975660592, 280], ['Positivo', 0.9953175887838167, 281], ['Positivo', 0.9959150078504155, 282], ['Positivo', 0.9939679099910369, 283], ['Positivo', 0.9999024624807826, 284], ['Positivo', 0.9938976765777732, 285], ['Positivo', 0.9979620498420663, 286], ['Positivo', 0.9859063139651738, 287], ['Positivo', 0.9787224995436068, 288], ['Positivo', 0.9996849736234609, 289], ['Positivo', 0.9787224995436068, 290], ['Positivo', 0.9987064074268598, 291], ['Positivo', 0.9957733511642992, 292], ['Positivo', 0.9973627327031701, 293], ['Positivo', 0.99459338627322, 294], ['Positivo', 0.9993392492491733, 295], ['Positivo', 0.9987932031521749, 296], ['Positivo', 0.9350643380270486, 297], ['Positivo', 0.9815532095779506, 298], ['Positivo', 0.9890737838296831, 299], ['Positivo', 0.9957867550625884, 300], ['Positivo', 0.7766839620714491, 301], ['Positivo', 0.6842445123557898, 302], ['Negativo', 0.9003774926303683, 303], ['Positivo', 0.9957733511642992, 304], ['Negativo', 0.9474692831011793, 305], ['Neutro', 0.6538413256930854, 306], ['Positivo', 0.9806374422035545, 307], ['Positivo', 0.9957733511642992, 308], ['Positivo', 0.9987064074268598, 309], ['Negativo', 0.7914049919695229, 310], ['Positivo', 0.9983921441881475, 311], ['Positivo', 0.5040220977749712, 312], ['Positivo', 0.8830223911914413, 313], ['Positivo', 0.9890737838296831, 314], ['Negativo', 0.8093422791879314, 315], ['Positivo', 0.9966488380360073, 316], ['Positivo', 0.6647623679498673, 317], ['Positivo', 0.999248982638617, 318], ['Positivo', 0.9898283512988975, 319], ['Positivo', 0.9898283512988975, 320], ['Positivo', 0.9890737838296831, 321], ['Positivo', 0.9987064074268598, 322], ['Positivo', 0.992076971887783, 323], ['Positivo', 0.6812495330998081, 324], ['Positivo', 0.9949922750697184, 325], ['Positivo', 0.9898283512988975, 326], ['Positivo', 0.9964576804768122, 327], ['Positivo', 0.9983921441881475, 328], ['Positivo', 0.9894864277583857, 329], ['Positivo', 0.9650517081841027, 330], ['Positivo', 0.9685543103883263, 331], ['Positivo', 0.8046354034668408, 332], ['Negativo', 0.5815192764680873, 333], ['Positivo', 0.9957867550625884, 334], ['Positivo', 0.9957867550625884, 336], ['Positivo', 0.9962231930692765, 337], ['Negativo', 0.6821749874398265, 338], ['Positivo', 0.9982045613682802, 339], ['Positivo', 0.999248982638617, 340], ['Positivo', 0.9979322493131088, 341], ['Positivo', 0.983883313042354, 342], ['Positivo', 0.9979322493131088, 343], ['Positivo', 0.9461978242870646, 344], ['Positivo', 0.8930330468997568, 345], ['Positivo', 0.9590287507184144, 346], ['Positivo', 0.9741331129678029, 347], ['Positivo', 0.9893449007130906, 348], ['Positivo', 0.9938368156748054, 350], ['Positivo', 0.9947781163892825, 351], ['Positivo', 0.990498282554043, 352], ['Positivo', 0.9966488380360073, 353], ['Negativo', 0.547541472254943, 354], ['Positivo', 0.9994734103210479, 355], ['Positivo', 0.9478024075581414, 356], ['Positivo', 0.9973261368591215, 357], ['Positivo', 0.999705173231082, 358], ['Positivo', 0.8468541229028663, 359], ['Positivo', 0.9945331126504883, 360], ['Neutro', 0.9623780662023064, 361], ['Positivo', 0.992076971887783, 362], ['Positivo', 0.9606452585230151, 363], ['Negativo', 0.786179902514582, 364], ['Positivo', 0.997329085407456, 365], ['Positivo', 0.9987064074268598, 366], ['Positivo', 0.9933964473572486, 367], ['Positivo', 0.9989254181608643, 368], ['Positivo', 0.967532925628295, 369], ['Positivo', 0.9473626773485416, 370], ['Positivo', 0.8643434302449494, 371], ['Positivo', 0.9830680064914068, 372], ['Negativo', 0.773511576622527, 373], ['Positivo', 0.9916670257522099, 374], ['Positivo', 0.9990919606567015, 375], ['Positivo', 0.975370247929909, 376], ['Negativo', 0.983779333348294, 377], ['Positivo', 0.9849013095095592, 378], ['Neutro', 0.977396921902742, 379], ['Positivo', 0.9991461333128203, 380], ['Positivo', 0.8270697031880004, 381], ['Positivo', 0.9630482146687149, 382], ['Positivo', 0.9041493033184984, 383], ['Positivo', 0.9891083876715216, 384], ['Positivo', 0.801991233342653, 385], ['Neutro', 0.9714961303175942, 386], ['Positivo', 0.9078856409850995, 387], ['Positivo', 0.9940298770534619, 388], ['Positivo', 0.975370247929909, 389], ['Positivo', 0.9990151895154283, 390], ['Positivo', 0.684771009043674, 391], ['Positivo', 0.9890737838296831, 392], ['Positivo', 0.9350643380270498, 393], ['Positivo', 0.9966488380360073, 394], ['Positivo', 0.685017388693579, 395], ['Positivo', 0.5199078457826722, 396], ['Negativo', 0.8558846602713553, 397], ['Positivo', 0.9991209725681496, 398], ['Positivo', 0.7793910136501878, 399], ['Positivo', 0.9993958739725778, 400], ['Positivo', 0.9055983094689513, 401], ['Positivo', 0.9887907888006605, 402], ['Positivo', 0.9797516544940369, 403], ['Positivo', 0.9635282809393214, 404], ['Positivo', 0.9742447607099386, 405], ['Positivo', 0.8936488673079483, 406], ['Negativo', 0.8559449826620352, 407], ['Positivo', 0.9600274602675196, 408], ['Positivo', 0.9968053870143516, 411], ['Positivo', 0.9364447937204053, 412], ['Positivo', 0.5141880447593263, 413], ['Positivo', 0.9780755944833243, 414], ['Positivo', 0.9404217555278556, 415], ['Positivo', 0.7143218036654302, 416], ['Neutro', 0.7997176876101351, 417], ['Positivo', 0.992531878091093, 418], ['Positivo', 0.8103968496932109, 419], ['Positivo', 0.9845108356878308, 420], ['Positivo', 0.9995076004768961, 421], ['Positivo', 0.9939852729481388, 422], ['Negativo', 0.9989278938799677, 423], ['Positivo', 0.9928026627708648, 424], ['Negativo', 0.6860461966648552, 425], ['Positivo', 0.9699073891821866, 426], ['Positivo', 0.992076971887783, 427], ['Positivo', 0.9427213997373016, 428], ['Positivo', 0.9413189047060022, 429], ['Positivo', 0.9947781163892825, 430], ['Positivo', 0.9950715395760882, 431], ['Positivo', 0.9653358756154699, 432], ['Negativo', 0.9848940550295379, 433], ['Positivo', 0.6910649187365377, 434], ['Positivo', 0.9990887191735707, 435], ['Negativo', 0.9994668063565015, 436], ['Positivo', 0.9933964473572486, 437], ['Positivo', 0.9548075575905277, 438], ['Positivo', 0.9772795260752891, 439], ['Positivo', 0.8457707222540547, 440], ['Positivo', 0.9859063139651738, 441], ['Positivo', 0.9710754455665348, 442], ['Positivo', 0.9890737838296831, 443], ['Negativo', 0.8265588124845206, 444], ['Neutro', 0.7637241854573706, 445], ['Positivo', 0.9884389634833217, 446], ['Positivo', 0.9898701339024982, 447], ['Positivo', 0.9985689260686461, 448], ['Neutro', 0.9836234083567521, 449], ['Positivo', 0.9989272237404576, 450], ['Positivo', 0.9027787618669564, 452], ['Positivo', 0.8205102608518908, 453], ['Positivo', 0.9427213997373016, 454], ['Negativo', 0.994726296127823, 455], ['Positivo', 0.9953175887838167, 456], ['Positivo', 0.8786676876731496, 457], ['Positivo', 0.9350643380270486, 458], ['Positivo', 0.9981614460069548, 459], ['Positivo', 0.8446141740463087, 460], ['Negativo', 0.5885553863696679, 461], ['Positivo', 0.9958367960199792, 462], ['Positivo', 0.9669796116325022, 463], ['Positivo', 0.9995374384254079, 464], ['Positivo', 0.9372038064309083, 465], ['Positivo', 0.9961493407172697, 466], ['Positivo', 0.9917220951698175, 467], ['Positivo', 0.9987208060252344, 468], ['Positivo', 0.9996546277706277, 469], ['Negativo', 0.9807100163951749, 470], ['Negativo', 0.7901899013987311, 471], ['Negativo', 0.955399275535195, 472], ['Positivo', 0.9838501988219657, 473], ['Positivo', 0.9747985718745567, 474], ['Positivo', 0.9731503261011023, 475], ['Negativo', 0.6341011878609538, 477], ['Positivo', 0.9859063139651738, 478], ['Negativo', 0.9681160030772189, 479], ['Neutro', 0.8901338826811441, 480], ['Negativo', 0.9939154539585351, 481], ['Positivo', 0.7018012199315311, 482], ['Negativo', 0.9967595575002162, 483], ['Negativo', 0.9892396364522412, 484], ['Positivo', 0.9995076004768961, 485], ['Negativo', 0.6341011878609538, 486], ['Positivo', 0.9996084518115663, 487], ['Positivo', 0.9923362860905823, 488], ['Positivo', 0.5483922668131674, 489], ['Negativo', 0.9999667846167569, 490], ['Negativo', 0.9973309614940858, 491], ['Neutro', 0.680204733541499, 492], ['Positivo', 0.9685543103883263, 493], ['Negativo', 0.6478928232384625, 495], ['Positivo', 0.9731166041697784, 496], ['Positivo', 0.9827939788595782, 497], ['Positivo', 0.9987064074268598, 498], ['Positivo', 0.9957867550625884, 499], ['Positivo', 0.9985680284226579, 500], ['Positivo', 0.9890737838296831, 501], ['Positivo', 0.9051804669375342, 502], ['Negativo', 0.730502480801667, 503], ['Neutro', 0.9749089256437559, 504], ['Positivo', 0.9588541742303465, 505], ['Positivo', 0.9933964473572486, 506], ['Negativo', 0.9230188032968757, 507], ['Positivo', 0.5984375252759847, 508], ['Negativo', 0.7862251650955316, 509], ['Negativo', 0.9916544940490736, 510], ['Negativo', 0.9722636328366497, 511], ['Positivo', 0.6275907168566934, 512], ['Positivo', 0.9836377041234988, 513], ['Negativo', 0.9911234918760331, 514], ['Negativo', 0.5715228591157437, 515], ['Positivo', 0.627590716856695, 516], ['Positivo', 0.9746394248737803, 517], ['Neutro', 0.9997690441082315, 518], ['Negativo', 0.9762858717451902, 519], ['Positivo', 0.9846016832566026, 520], ['Positivo', 0.975370247929909, 521], ['Positivo', 0.5572359071257614, 522], ['Negativo', 0.9483385066414851, 523], ['Positivo', 0.9746394248737803, 524], ['Neutro', 0.882529525080681, 525], ['Positivo', 0.5960232844374834, 526], ['Neutro', 0.9991668407591351, 527], ['Negativo', 0.950610334738976, 528], ['Positivo', 0.9957867550625884, 529], ['Positivo', 0.9890737838296831, 530], ['Negativo', 0.9003952024135758, 531], ['Positivo', 0.9973202748312973, 532], ['Negativo', 0.9712785471444502, 533], ['Negativo', 0.9988088755457599, 534], ['Positivo', 0.9889613537271581, 535], ['Positivo', 0.9933964473572486, 536], ['Negativo', 0.9230188032968757, 537], ['Positivo', 0.9346856974293539, 538], ['Positivo', 0.9658598120293636, 539], ['Positivo', 0.9741331129678054, 540], ['Negativo', 0.994519560200839, 541], ['Positivo', 0.9590287507184144, 542], ['Positivo', 0.6647623679498673, 543], ['Positivo', 0.9990234492627251, 544], ['Neutro', 0.9929734711472908, 545], ['Positivo', 0.8091641237390531, 546], ['Neutro', 0.9729848726974227, 547], ['Negativo', 0.9500384181840941, 548], ['Positivo', 0.7302048313480435, 549], ['Positivo', 0.9960315146009671, 550], ['Positivo', 0.975370247929909, 551], ['Positivo', 0.999355741322327, 552], ['Positivo', 0.7807006427773855, 553], ['Negativo', 0.9954814410082323, 554], ['Positivo', 0.9957867550625884, 555], ['Positivo', 0.8019912333426766, 556], ['Neutro', 0.9150342154716802, 557], ['Positivo', 0.997329085407456, 558], ['Positivo', 0.9957867550625884, 559], ['Positivo', 0.9041493033184984, 560], ['Positivo', 0.9856632631949157, 561], ['Positivo', 0.8019912333426766, 562], ['Positivo', 0.9992226922400946, 563], ['Negativo', 0.9969466288511005, 564], ['Neutro', 0.7665302394806658, 565], ['Negativo', 0.7546565192611016, 566], ['Positivo', 0.7302048313480435, 567], ['Neutro', 0.9999674382600322, 568], ['Positivo', 0.9891083876715216, 569], ['Negativo', 0.9962456004406163, 570], ['Positivo', 0.9811583934749039, 571], ['Positivo', 0.9040340312286911, 572], ['Negativo', 0.8574695150873042, 573], ['Positivo', 0.9727976310222374, 574], ['Positivo', 0.9909031585746346, 575], ['Neutro', 0.9446666660025529, 576], ['Positivo', 0.5984375252759847, 577], ['Positivo', 0.5031175073274124, 578], ['Positivo', 0.9894864277583857, 579], ['Negativo', 0.7447689850139736, 580], ['Positivo', 0.9890737838296831, 581], ['Negativo', 0.7470210191365795, 582], ['Positivo', 0.9989119368693945, 583], ['Negativo', 0.9902824163981668, 584], ['Positivo', 0.9995076004768961, 585], ['Positivo', 0.9890737838296831, 586], ['Positivo', 0.5040220977750072, 587], ['Positivo', 0.9995076004768961, 588], ['Positivo', 0.9838653369243833, 589], ['Positivo', 0.9933964473572486, 590], ['Positivo', 0.8019912333426806, 591], ['Positivo', 0.9951252987505222, 592], ['Positivo', 0.9992226922400946, 593], ['Positivo', 0.9224843612195356, 594], ['Positivo', 0.9982045613682802, 595], ['Positivo', 0.5725704928402442, 596], ['Positivo', 0.9992226922400946, 597], ['Positivo', 0.8823875639896065, 598], ['Positivo', 0.9963966997243845, 599], ['Positivo', 0.975370247929909, 600], ['Positivo', 0.9966488380360073, 602], ['Positivo', 0.9953175887838167, 603], ['Negativo', 0.6556282414781096, 604], ['Positivo', 0.9978339849091856, 605], ['Negativo', 0.9901140842953752, 606], ['Positivo', 0.8019912333426806, 607], ['Positivo', 0.8139435615329007, 608], ['Negativo', 0.8564100530321328, 609], ['Negativo', 0.9003774926303683, 610], ['Positivo', 0.9975378650352916, 611], ['Neutro', 0.9203274013148481, 612], ['Negativo', 0.9429293219351061, 613], ['Positivo', 0.8139435615329027, 614], ['Negativo', 0.8100207401725189, 616], ['Negativo', 0.9998340009817763, 617], ['Neutro', 0.9998173670092202, 618], ['Negativo', 0.9352811844447325, 619], ['Negativo', 0.9999405297853905, 620], ['Positivo', 0.9064346169261834, 621], ['Negativo', 0.7640758718276623, 622], ['Negativo', 0.8956169183125412, 623], ['Positivo', 0.9894996493343061, 624], ['Positivo', 0.9843473781669342, 625], ['Positivo', 0.7302048313480435, 626], ['Positivo', 0.9824672165479156, 627], ['Positivo', 0.554847165442933, 628], ['Positivo', 0.9385869915331532, 629], ['Positivo', 0.9747625966652025, 630], ['Positivo', 0.9990248938210712, 631], ['Positivo', 0.7412056228686306, 632], ['Positivo', 0.7302048313480435, 633], ['Neutro', 0.6267074253935274, 634], ['Positivo', 0.8868529362908423, 635], ['Positivo', 0.9890801041948781, 636], ['Positivo', 0.9953175887838167, 637], ['Positivo', 0.9721121008163389, 638], ['Negativo', 0.8093422791879314, 639], ['Positivo', 0.9349006262995603, 640], ['Positivo', 0.9843473781669342, 641], ['Positivo', 0.6275907168567305, 642], ['Negativo', 0.9896549128257195, 643], ['Neutro', 0.6206713812830957, 644], ['Negativo', 0.9496227147799202, 645], ['Negativo', 0.9930838376555257, 646], ['Positivo', 0.9905563583507261, 647], ['Neutro', 0.9558715372933293, 648], ['Positivo', 0.9992226922400946, 650], ['Positivo', 0.9972268987641587, 651], ['Positivo', 0.9890737838296831, 652], ['Negativo', 0.8278752162125875, 653], ['Positivo', 0.9741331129678066, 654], ['Positivo', 0.975370247929909, 655], ['Positivo', 0.9990606703223428, 656], ['Neutro', 0.6206713812830957, 657], ['Positivo', 0.9979322493131088, 658], ['Positivo', 0.9891083876715216, 659], ['Positivo', 0.9130171522430475, 660], ['Positivo', 0.9903981957265134, 661], ['Neutro', 0.533752723169991, 662], ['Positivo', 0.8107716854731823, 663], ['Positivo', 0.9995076004768961, 664], ['Negativo', 0.999652336521132, 665], ['Positivo', 0.5144850166148114, 666], ['Negativo', 0.8579526190222864, 667], ['Negativo', 0.8865452937370265, 668], ['Negativo', 0.7583344035851931, 669], ['Negativo', 0.9860477675166888, 670], ['Negativo', 0.9258837235982208, 671], ['Negativo', 0.8558846602713575, 672], ['Negativo', 0.9999690680752928, 673], ['Negativo', 0.985349112844217, 674], ['Negativo', 0.9979072574441432, 675], ['Negativo', 0.9670618119940935, 676], ['Negativo', 0.5768517795908782, 677], ['Negativo', 0.8673336175422777, 678], ['Negativo', 0.7796557500630882, 679], ['Negativo', 0.9845098435458071, 680], ['Positivo', 0.5040220977750307, 681], ['Negativo', 0.6243322382640853, 682], ['Positivo', 0.6275907168567367, 683], ['Negativo', 0.9945555526373313, 684], ['Negativo', 0.9870968003194831, 685], ['Negativo', 0.9936418483622007, 686], ['Negativo', 0.9913478217375173, 687], ['Negativo', 0.9697444000527333, 688], ['Negativo', 0.9973901664654551, 689], ['Negativo', 0.9734560161678886, 690], ['Negativo', 0.9926641784079958, 691], ['Negativo', 0.9697444000527333, 692], ['Negativo', 0.7796557500630882, 693], ['Negativo', 0.8257452641263381, 694], ['Negativo', 0.8093422791879314, 695], ['Negativo', 0.7796557500630882, 696], ['Negativo', 0.7796557500630882, 697], ['Negativo', 0.9793917049577847, 698], ['Negativo', 0.9896402438343499, 699], ['Negativo', 0.9972408534093392, 700], ['Negativo', 0.9092379223174679, 701], ['Negativo', 0.9003774926303683, 702], ['Negativo', 0.9003774926303683, 703], ['Negativo', 0.9938061812939603, 704], ['Negativo', 0.9926641784079958, 705], ['Negativo', 0.9003774926303683, 706], ['Negativo', 0.8093422791879314, 707], ['Positivo', 0.9524464805102476, 708]]\n"
     ]
    }
   ],
   "source": [
    "print(resultado)"
   ]
  },
  {
   "cell_type": "code",
   "execution_count": null,
   "metadata": {},
   "outputs": [
    {
     "name": "stdout",
     "output_type": "stream",
     "text": [
      "696\n"
     ]
    }
   ],
   "source": [
    "print(len(resultado))"
   ]
  },
  {
   "cell_type": "code",
   "execution_count": null,
   "metadata": {},
   "outputs": [
    {
     "name": "stdout",
     "output_type": "stream",
     "text": [
      "1431\n"
     ]
    }
   ],
   "source": [
    "print(len(erro))"
   ]
  },
  {
   "cell_type": "code",
   "execution_count": null,
   "metadata": {},
   "outputs": [
    {
     "name": "stdout",
     "output_type": "stream",
     "text": [
      "[['Positivo', 0.9989254181608643, 0], ['Negativo', 0.9976132130682884, 1], ['Positivo', 0.9799301940069632, 2], ['Neutro', 0.9609950290801835, 3], ['Positivo', 0.9997473554797592, 4], ['Positivo', 0.9919821767969101, 5], ['Neutro', 0.8672240020523168, 6], ['Positivo', 0.8473777721059028, 7], ['Positivo', 0.6925260192584818, 8], ['Positivo', 0.992076971887783, 9], ['Positivo', 0.8410771813382873, 10], ['Positivo', 0.9983921441881475, 11], ['Positivo', 0.9741331129678017, 12], ['Positivo', 0.9991799426308129, 13], ['Positivo', 0.9945331126504883, 14], ['Negativo', 0.6739116927441621, 15], ['Positivo', 0.9760388516199693, 16], ['Positivo', 0.9845108356878308, 17], ['Positivo', 0.7248091946605039, 18], ['Positivo', 0.9188143014744171, 19], ['Positivo', 0.9982045613682802, 20], ['Negativo', 0.9995477388861906, 21], ['Positivo', 0.9078856409850816, 22], ['Positivo', 0.903680498922975, 23], ['Negativo', 0.9994767757725364, 24], ['Positivo', 0.9968474307975431, 25], ['Positivo', 0.9993370060908218, 26], ['Positivo', 0.9999700174902142, 27], ['Positivo', 0.9741331129678017, 28], ['Positivo', 0.9958367960199792, 29], ['Positivo', 0.9890737838296831, 30], ['Positivo', 0.9987064074268598, 31], ['Positivo', 0.8890848104109993, 32], ['Positivo', 0.9979322493131088, 33], ['Positivo', 0.9972620502619403, 34], ['Positivo', 0.9983921441881475, 35], ['Positivo', 0.9995064303694703, 36], ['Neutro', 0.9321340273936453, 37], ['Positivo', 0.5696869836559456, 38], ['Positivo', 0.9843473781669317, 39], ['Neutro', 0.8187086641450658, 40], ['Positivo', 0.9958367960199792, 41], ['Positivo', 0.9928652076114591, 42], ['Negativo', 0.5975679496086371, 43], ['Positivo', 0.9999777226413806, 44], ['Negativo', 0.9998034553835456, 45], ['Positivo', 0.8040961145549929, 46], ['Positivo', 0.9662512529458142, 47], ['Positivo', 0.9712062630684072, 48], ['Positivo', 0.9296783522677731, 49], ['Positivo', 0.9890737838296831, 50], ['Positivo', 0.8494315215854058, 51], ['Positivo', 0.9969600975660592, 52], ['Negativo', 0.9974730228182632, 53], ['Positivo', 0.9987064074268598, 54], ['Neutro', 0.9962832766095115, 55], ['Negativo', 0.8828691748883887, 56], ['Positivo', 0.9970087243289656, 57], ['Positivo', 0.7198282596966867, 58], ['Positivo', 0.8868529362908423, 60], ['Positivo', 0.9987064074268598, 61], ['Positivo', 0.992076971887783, 62], ['Positivo', 0.8848224990456155, 63], ['Positivo', 0.9997175489625839, 64], ['Positivo', 0.9776976173946041, 65], ['Positivo', 0.9957867550625884, 66], ['Positivo', 0.874741088582786, 67], ['Positivo', 0.9427696374643877, 68], ['Positivo', 0.9987064074268598, 69], ['Positivo', 0.9611687168817906, 70], ['Negativo', 0.9499338025823463, 71], ['Positivo', 0.9966488380360073, 72], ['Positivo', 0.9956356800985102, 73], ['Positivo', 0.9969124368384987, 74], ['Positivo', 0.9957867550625884, 75], ['Positivo', 0.9746394248737803, 76], ['Positivo', 0.9842123267859451, 77], ['Positivo', 0.9957733511642992, 78], ['Positivo', 0.9993265386554385, 79], ['Positivo', 0.9901680198993527, 80], ['Positivo', 0.9945331126504883, 81], ['Positivo', 0.9987064074268598, 82], ['Positivo', 0.9741331129678029, 83], ['Positivo', 0.9777627993314546, 84], ['Negativo', 0.8225995094282341, 85], ['Positivo', 0.9957733511642992, 86], ['Positivo', 0.9974736275299874, 87], ['Positivo', 0.9563878268748418, 88], ['Positivo', 0.9953175887838167, 89], ['Positivo', 0.9957733511642992, 90], ['Positivo', 0.9901975998815471, 91], ['Positivo', 0.9983921441881475, 92], ['Positivo', 0.9992226922400946, 93], ['Positivo', 0.9929184003589206, 94], ['Positivo', 0.9998354097746076, 95], ['Positivo', 0.9901592651698918, 96], ['Positivo', 0.9900506142027619, 97], ['Positivo', 0.9934311607443803, 98], ['Positivo', 0.9983921441881475, 99], ['Positivo', 0.9958367960199792, 100], ['Positivo', 0.9979322493131088, 101], ['Positivo', 0.992076971887783, 102], ['Positivo', 0.992076971887783, 103], ['Positivo', 0.9985680284226579, 104], ['Positivo', 0.9430567635662764, 105], ['Positivo', 0.9721121008163389, 107], ['Positivo', 0.5976703271429613, 108], ['Positivo', 0.9919821767969101, 109], ['Positivo', 0.9838653369243833, 110], ['Neutro', 0.9979272362880367, 111], ['Positivo', 0.998379625281867, 112], ['Positivo', 0.9966488380360073, 113], ['Positivo', 0.6061879740204396, 114], ['Positivo', 0.7072134272700186, 115], ['Positivo', 0.9818793890548676, 116], ['Positivo', 0.998379625281867, 117], ['Positivo', 0.8837445116648003, 118], ['Positivo', 0.9938613107557809, 119], ['Positivo', 0.985225797101036, 120], ['Positivo', 0.9972579734558993, 121], ['Positivo', 0.9987064074268598, 122], ['Positivo', 0.9801426082896632, 123], ['Positivo', 0.9809532263916676, 124], ['Positivo', 0.9989079888002184, 125], ['Negativo', 0.9413603879956405, 126], ['Negativo', 0.9788207348345985, 127], ['Positivo', 0.9753699311372199, 128], ['Positivo', 0.9987064074268598, 129], ['Positivo', 0.9875043106698326, 130], ['Positivo', 0.9987064074268598, 131], ['Positivo', 0.9987064074268598, 132], ['Positivo', 0.9982045613682802, 133], ['Positivo', 0.9987064074268598, 134], ['Positivo', 0.975370247929909, 135], ['Positivo', 0.9843473781669317, 136], ['Positivo', 0.9326856171392217, 137], ['Positivo', 0.997329085407456, 138], ['Negativo', 0.999631294742448, 139], ['Positivo', 0.9957037226456734, 140], ['Positivo', 0.9560505412176575, 141], ['Positivo', 0.9989457656946268, 142], ['Positivo', 0.9891083876715216, 143], ['Positivo', 0.9992226922400946, 144], ['Positivo', 0.9958367960199792, 145], ['Positivo', 0.9950715395760882, 146], ['Positivo', 0.9789489066405485, 147], ['Neutro', 0.9749047146282831, 148], ['Positivo', 0.992076971887783, 149], ['Positivo', 0.6954703482472899, 150], ['Positivo', 0.9957867550625884, 151], ['Positivo', 0.9983921441881475, 152], ['Positivo', 0.992076971887783, 153], ['Positivo', 0.9987064074268598, 154], ['Positivo', 0.9997165636314133, 155], ['Positivo', 0.9994214691257406, 156], ['Negativo', 0.9589874257181757, 157], ['Positivo', 0.9983921441881475, 158], ['Positivo', 0.9983921441881475, 159], ['Positivo', 0.5922268443087702, 160], ['Positivo', 0.9995798040282423, 161], ['Positivo', 0.9983921441881475, 162], ['Positivo', 0.9971081296620866, 163], ['Neutro', 0.9996187183807342, 164], ['Positivo', 0.9951252987505222, 165], ['Positivo', 0.9901680198993527, 166], ['Positivo', 0.998379625281867, 167], ['Positivo', 0.9995076004768961, 168], ['Neutro', 0.6158427431409635, 169], ['Positivo', 0.9983921441881475, 170], ['Positivo', 0.9987064074268598, 171], ['Positivo', 0.9999024624807826, 172], ['Positivo', 0.9838653369243833, 173], ['Positivo', 0.9962231930692765, 174], ['Positivo', 0.9746394248737803, 175], ['Positivo', 0.5424252069197074, 176], ['Positivo', 0.9894864277583857, 177], ['Positivo', 0.6842849291045261, 178], ['Positivo', 0.9991419812232732, 179], ['Positivo', 0.8957671450371499, 180], ['Negativo', 0.7676374221105086, 181], ['Positivo', 0.9953076232794201, 182], ['Positivo', 0.9685543103883263, 183], ['Positivo', 0.9911438620410487, 184], ['Positivo', 0.9856745737255235, 185], ['Positivo', 0.9848637388586591, 186], ['Neutro', 0.9999999970892618, 187], ['Positivo', 0.9891938784197901, 188], ['Positivo', 0.9983921441881475, 189], ['Positivo', 0.9432250685934539, 190], ['Neutro', 0.5731980022952995, 191], ['Positivo', 0.9668151860203796, 192], ['Positivo', 0.9971370312887873, 193], ['Positivo', 0.9890737838296831, 194], ['Positivo', 0.9983921441881475, 195], ['Positivo', 0.990498282554043, 196], ['Positivo', 0.9890737838296831, 197], ['Positivo', 0.9901680198993527, 198], ['Neutro', 0.5078695163548679, 199], ['Positivo', 0.5984375252759508, 200], ['Positivo', 0.9970219648375633, 201], ['Positivo', 0.6121050754997847, 202], ['Positivo', 0.998379625281867, 203], ['Positivo', 0.9250430680413719, 204], ['Positivo', 0.7904040113974212, 205], ['Positivo', 0.9987064074268598, 206], ['Positivo', 0.9987064074268598, 207], ['Positivo', 0.992076971887783, 208], ['Positivo', 0.9890737838296831, 209], ['Positivo', 0.98784133181683, 210], ['Positivo', 0.9669796116325022, 211], ['Neutro', 0.796014362640682, 212], ['Positivo', 0.9340200814025788, 213], ['Positivo', 0.9928652076114591, 214], ['Positivo', 0.9951252987505222, 215], ['Positivo', 0.9995076004768961, 216], ['Positivo', 0.9731948734288999, 217], ['Negativo', 0.9863481838296537, 218], ['Positivo', 0.7496060351615046, 219], ['Positivo', 0.967532925628295, 220], ['Positivo', 0.7403057112348417, 221], ['Positivo', 0.9997193589150706, 222], ['Positivo', 0.9982045613682802, 223], ['Negativo', 0.9736583743787538, 224], ['Positivo', 0.9987064074268598, 225], ['Positivo', 0.9901680198993527, 226], ['Positivo', 0.9789489066405485, 227], ['Positivo', 0.9987064074268598, 228], ['Positivo', 0.9995076004768961, 229], ['Positivo', 0.9983921441881475, 230], ['Positivo', 0.992076971887783, 231], ['Positivo', 0.9901680198993527, 232], ['Positivo', 0.9992226922400946, 233], ['Positivo', 0.907885640985095, 234], ['Positivo', 0.9135042575339428, 235], ['Positivo', 0.9983921441881475, 236], ['Positivo', 0.8179069449065495, 237], ['Positivo', 0.993121138897571, 238], ['Positivo', 0.8607276147619504, 239], ['Positivo', 0.9875043106698326, 240], ['Positivo', 0.9933964473572486, 241], ['Positivo', 0.9721121008163389, 242], ['Positivo', 0.9996527369358066, 243], ['Positivo', 0.9419999311690122, 244], ['Positivo', 0.9915067850566293, 245], ['Positivo', 0.9999024624807826, 246], ['Positivo', 0.7092543172364997, 247], ['Positivo', 0.9901680198993527, 248], ['Positivo', 0.975370247929909, 249], ['Positivo', 0.9996527369358066, 250], ['Positivo', 0.948584972566877, 251], ['Positivo', 0.996644612778065, 252], ['Positivo', 0.9691577436243919, 253], ['Positivo', 0.960382429961834, 254], ['Positivo', 0.7336161898875483, 255], ['Positivo', 0.9983921441881475, 256], ['Positivo', 0.9890737838296831, 257], ['Positivo', 0.9989689656461964, 258], ['Positivo', 0.9984046190932585, 259], ['Positivo', 0.8868529362908423, 260], ['Positivo', 0.9887709388243312, 261], ['Positivo', 0.9982045613682802, 262], ['Positivo', 0.9731751882859194, 263], ['Positivo', 0.975370247929909, 264], ['Neutro', 0.9894173909205887, 265], ['Positivo', 0.997329085407456, 266], ['Positivo', 0.9925938476372522, 267], ['Positivo', 0.9860347423628975, 268], ['Positivo', 0.9919821767969101, 269], ['Positivo', 0.9987064074268598, 270], ['Negativo', 0.6191978100136298, 271], ['Positivo', 0.9983921441881475, 272], ['Positivo', 0.9947760962066333, 273], ['Positivo', 0.9877029552744465, 274], ['Positivo', 0.9994251734471731, 275], ['Positivo', 0.8016284687911035, 277], ['Positivo', 0.9988223605529655, 278], ['Negativo', 0.9296646909718748, 279], ['Positivo', 0.9969600975660592, 280], ['Positivo', 0.9953175887838167, 281], ['Positivo', 0.9959150078504155, 282], ['Positivo', 0.9939679099910369, 283], ['Positivo', 0.9999024624807826, 284], ['Positivo', 0.9938976765777732, 285], ['Positivo', 0.9979620498420663, 286], ['Positivo', 0.9859063139651738, 287], ['Positivo', 0.9787224995436068, 288], ['Positivo', 0.9996849736234609, 289], ['Positivo', 0.9787224995436068, 290], ['Positivo', 0.9987064074268598, 291], ['Positivo', 0.9957733511642992, 292], ['Positivo', 0.9973627327031701, 293], ['Positivo', 0.99459338627322, 294], ['Positivo', 0.9993392492491733, 295], ['Positivo', 0.9987932031521749, 296], ['Positivo', 0.9350643380270486, 297], ['Positivo', 0.9815532095779506, 298], ['Positivo', 0.9890737838296831, 299], ['Positivo', 0.9957867550625884, 300], ['Positivo', 0.7766839620714491, 301], ['Positivo', 0.6842445123557898, 302], ['Negativo', 0.9003774926303683, 303], ['Positivo', 0.9957733511642992, 304], ['Negativo', 0.9474692831011793, 305], ['Neutro', 0.6538413256930854, 306], ['Positivo', 0.9806374422035545, 307], ['Positivo', 0.9957733511642992, 308], ['Positivo', 0.9987064074268598, 309], ['Negativo', 0.7914049919695229, 310], ['Positivo', 0.9983921441881475, 311], ['Positivo', 0.5040220977749712, 312], ['Positivo', 0.8830223911914413, 313], ['Positivo', 0.9890737838296831, 314], ['Negativo', 0.8093422791879314, 315], ['Positivo', 0.9966488380360073, 316], ['Positivo', 0.6647623679498673, 317], ['Positivo', 0.999248982638617, 318], ['Positivo', 0.9898283512988975, 319], ['Positivo', 0.9898283512988975, 320], ['Positivo', 0.9890737838296831, 321], ['Positivo', 0.9987064074268598, 322], ['Positivo', 0.992076971887783, 323], ['Positivo', 0.6812495330998081, 324], ['Positivo', 0.9949922750697184, 325], ['Positivo', 0.9898283512988975, 326], ['Positivo', 0.9964576804768122, 327], ['Positivo', 0.9983921441881475, 328], ['Positivo', 0.9894864277583857, 329], ['Positivo', 0.9650517081841027, 330], ['Positivo', 0.9685543103883263, 331], ['Positivo', 0.8046354034668408, 332], ['Negativo', 0.5815192764680873, 333], ['Positivo', 0.9957867550625884, 334], ['Positivo', 0.9957867550625884, 336], ['Positivo', 0.9962231930692765, 337], ['Negativo', 0.6821749874398265, 338], ['Positivo', 0.9982045613682802, 339], ['Positivo', 0.999248982638617, 340], ['Positivo', 0.9979322493131088, 341], ['Positivo', 0.983883313042354, 342], ['Positivo', 0.9979322493131088, 343], ['Positivo', 0.9461978242870646, 344], ['Positivo', 0.8930330468997568, 345], ['Positivo', 0.9590287507184144, 346], ['Positivo', 0.9741331129678029, 347], ['Positivo', 0.9893449007130906, 348], ['Positivo', 0.9938368156748054, 350], ['Positivo', 0.9947781163892825, 351], ['Positivo', 0.990498282554043, 352], ['Positivo', 0.9966488380360073, 353], ['Negativo', 0.547541472254943, 354], ['Positivo', 0.9994734103210479, 355], ['Positivo', 0.9478024075581414, 356], ['Positivo', 0.9973261368591215, 357], ['Positivo', 0.999705173231082, 358], ['Positivo', 0.8468541229028663, 359], ['Positivo', 0.9945331126504883, 360], ['Neutro', 0.9623780662023064, 361], ['Positivo', 0.992076971887783, 362], ['Positivo', 0.9606452585230151, 363], ['Negativo', 0.786179902514582, 364], ['Positivo', 0.997329085407456, 365], ['Positivo', 0.9987064074268598, 366], ['Positivo', 0.9933964473572486, 367], ['Positivo', 0.9989254181608643, 368], ['Positivo', 0.967532925628295, 369], ['Positivo', 0.9473626773485416, 370], ['Positivo', 0.8643434302449494, 371], ['Positivo', 0.9830680064914068, 372], ['Negativo', 0.773511576622527, 373], ['Positivo', 0.9916670257522099, 374], ['Positivo', 0.9990919606567015, 375], ['Positivo', 0.975370247929909, 376], ['Negativo', 0.983779333348294, 377], ['Positivo', 0.9849013095095592, 378], ['Neutro', 0.977396921902742, 379], ['Positivo', 0.9991461333128203, 380], ['Positivo', 0.8270697031880004, 381], ['Positivo', 0.9630482146687149, 382], ['Positivo', 0.9041493033184984, 383], ['Positivo', 0.9891083876715216, 384], ['Positivo', 0.801991233342653, 385], ['Neutro', 0.9714961303175942, 386], ['Positivo', 0.9078856409850995, 387], ['Positivo', 0.9940298770534619, 388], ['Positivo', 0.975370247929909, 389], ['Positivo', 0.9990151895154283, 390], ['Positivo', 0.684771009043674, 391], ['Positivo', 0.9890737838296831, 392], ['Positivo', 0.9350643380270498, 393], ['Positivo', 0.9966488380360073, 394], ['Positivo', 0.685017388693579, 395], ['Positivo', 0.5199078457826722, 396], ['Negativo', 0.8558846602713553, 397], ['Positivo', 0.9991209725681496, 398], ['Positivo', 0.7793910136501878, 399], ['Positivo', 0.9993958739725778, 400], ['Positivo', 0.9055983094689513, 401], ['Positivo', 0.9887907888006605, 402], ['Positivo', 0.9797516544940369, 403], ['Positivo', 0.9635282809393214, 404], ['Positivo', 0.9742447607099386, 405], ['Positivo', 0.8936488673079483, 406], ['Negativo', 0.8559449826620352, 407], ['Positivo', 0.9600274602675196, 408], ['Positivo', 0.9968053870143516, 411], ['Positivo', 0.9364447937204053, 412], ['Positivo', 0.5141880447593263, 413], ['Positivo', 0.9780755944833243, 414], ['Positivo', 0.9404217555278556, 415], ['Positivo', 0.7143218036654302, 416], ['Neutro', 0.7997176876101351, 417], ['Positivo', 0.992531878091093, 418], ['Positivo', 0.8103968496932109, 419], ['Positivo', 0.9845108356878308, 420], ['Positivo', 0.9995076004768961, 421], ['Positivo', 0.9939852729481388, 422], ['Negativo', 0.9989278938799677, 423], ['Positivo', 0.9928026627708648, 424], ['Negativo', 0.6860461966648552, 425], ['Positivo', 0.9699073891821866, 426], ['Positivo', 0.992076971887783, 427], ['Positivo', 0.9427213997373016, 428], ['Positivo', 0.9413189047060022, 429], ['Positivo', 0.9947781163892825, 430], ['Positivo', 0.9950715395760882, 431], ['Positivo', 0.9653358756154699, 432], ['Negativo', 0.9848940550295379, 433], ['Positivo', 0.6910649187365377, 434], ['Positivo', 0.9990887191735707, 435], ['Negativo', 0.9994668063565015, 436], ['Positivo', 0.9933964473572486, 437], ['Positivo', 0.9548075575905277, 438], ['Positivo', 0.9772795260752891, 439], ['Positivo', 0.8457707222540547, 440], ['Positivo', 0.9859063139651738, 441], ['Positivo', 0.9710754455665348, 442], ['Positivo', 0.9890737838296831, 443], ['Negativo', 0.8265588124845206, 444], ['Neutro', 0.7637241854573706, 445], ['Positivo', 0.9884389634833217, 446], ['Positivo', 0.9898701339024982, 447], ['Positivo', 0.9985689260686461, 448], ['Neutro', 0.9836234083567521, 449], ['Positivo', 0.9989272237404576, 450], ['Positivo', 0.9027787618669564, 452], ['Positivo', 0.8205102608518908, 453], ['Positivo', 0.9427213997373016, 454], ['Negativo', 0.994726296127823, 455], ['Positivo', 0.9953175887838167, 456], ['Positivo', 0.8786676876731496, 457], ['Positivo', 0.9350643380270486, 458], ['Positivo', 0.9981614460069548, 459], ['Positivo', 0.8446141740463087, 460], ['Negativo', 0.5885553863696679, 461], ['Positivo', 0.9958367960199792, 462], ['Positivo', 0.9669796116325022, 463], ['Positivo', 0.9995374384254079, 464], ['Positivo', 0.9372038064309083, 465], ['Positivo', 0.9961493407172697, 466], ['Positivo', 0.9917220951698175, 467], ['Positivo', 0.9987208060252344, 468], ['Positivo', 0.9996546277706277, 469], ['Negativo', 0.9807100163951749, 470], ['Negativo', 0.7901899013987311, 471], ['Negativo', 0.955399275535195, 472], ['Positivo', 0.9838501988219657, 473], ['Positivo', 0.9747985718745567, 474], ['Positivo', 0.9731503261011023, 475], ['Negativo', 0.6341011878609538, 477], ['Positivo', 0.9859063139651738, 478], ['Negativo', 0.9681160030772189, 479], ['Neutro', 0.8901338826811441, 480], ['Negativo', 0.9939154539585351, 481], ['Positivo', 0.7018012199315311, 482], ['Negativo', 0.9967595575002162, 483], ['Negativo', 0.9892396364522412, 484], ['Positivo', 0.9995076004768961, 485], ['Negativo', 0.6341011878609538, 486], ['Positivo', 0.9996084518115663, 487], ['Positivo', 0.9923362860905823, 488], ['Positivo', 0.5483922668131674, 489], ['Negativo', 0.9999667846167569, 490], ['Negativo', 0.9973309614940858, 491], ['Neutro', 0.680204733541499, 492], ['Positivo', 0.9685543103883263, 493], ['Negativo', 0.6478928232384625, 495], ['Positivo', 0.9731166041697784, 496], ['Positivo', 0.9827939788595782, 497], ['Positivo', 0.9987064074268598, 498], ['Positivo', 0.9957867550625884, 499], ['Positivo', 0.9985680284226579, 500], ['Positivo', 0.9890737838296831, 501], ['Positivo', 0.9051804669375342, 502], ['Negativo', 0.730502480801667, 503], ['Neutro', 0.9749089256437559, 504], ['Positivo', 0.9588541742303465, 505], ['Positivo', 0.9933964473572486, 506], ['Negativo', 0.9230188032968757, 507], ['Positivo', 0.5984375252759847, 508], ['Negativo', 0.7862251650955316, 509], ['Negativo', 0.9916544940490736, 510], ['Negativo', 0.9722636328366497, 511], ['Positivo', 0.6275907168566934, 512], ['Positivo', 0.9836377041234988, 513], ['Negativo', 0.9911234918760331, 514], ['Negativo', 0.5715228591157437, 515], ['Positivo', 0.627590716856695, 516], ['Positivo', 0.9746394248737803, 517], ['Neutro', 0.9997690441082315, 518], ['Negativo', 0.9762858717451902, 519], ['Positivo', 0.9846016832566026, 520], ['Positivo', 0.975370247929909, 521], ['Positivo', 0.5572359071257614, 522], ['Negativo', 0.9483385066414851, 523], ['Positivo', 0.9746394248737803, 524], ['Neutro', 0.882529525080681, 525], ['Positivo', 0.5960232844374834, 526], ['Neutro', 0.9991668407591351, 527], ['Negativo', 0.950610334738976, 528], ['Positivo', 0.9957867550625884, 529], ['Positivo', 0.9890737838296831, 530], ['Negativo', 0.9003952024135758, 531], ['Positivo', 0.9973202748312973, 532], ['Negativo', 0.9712785471444502, 533], ['Negativo', 0.9988088755457599, 534], ['Positivo', 0.9889613537271581, 535], ['Positivo', 0.9933964473572486, 536], ['Negativo', 0.9230188032968757, 537], ['Positivo', 0.9346856974293539, 538], ['Positivo', 0.9658598120293636, 539], ['Positivo', 0.9741331129678054, 540], ['Negativo', 0.994519560200839, 541], ['Positivo', 0.9590287507184144, 542], ['Positivo', 0.6647623679498673, 543], ['Positivo', 0.9990234492627251, 544], ['Neutro', 0.9929734711472908, 545], ['Positivo', 0.8091641237390531, 546], ['Neutro', 0.9729848726974227, 547], ['Negativo', 0.9500384181840941, 548], ['Positivo', 0.7302048313480435, 549], ['Positivo', 0.9960315146009671, 550], ['Positivo', 0.975370247929909, 551], ['Positivo', 0.999355741322327, 552], ['Positivo', 0.7807006427773855, 553], ['Negativo', 0.9954814410082323, 554], ['Positivo', 0.9957867550625884, 555], ['Positivo', 0.8019912333426766, 556], ['Neutro', 0.9150342154716802, 557], ['Positivo', 0.997329085407456, 558], ['Positivo', 0.9957867550625884, 559], ['Positivo', 0.9041493033184984, 560], ['Positivo', 0.9856632631949157, 561], ['Positivo', 0.8019912333426766, 562], ['Positivo', 0.9992226922400946, 563], ['Negativo', 0.9969466288511005, 564], ['Neutro', 0.7665302394806658, 565], ['Negativo', 0.7546565192611016, 566], ['Positivo', 0.7302048313480435, 567], ['Neutro', 0.9999674382600322, 568], ['Positivo', 0.9891083876715216, 569], ['Negativo', 0.9962456004406163, 570], ['Positivo', 0.9811583934749039, 571], ['Positivo', 0.9040340312286911, 572], ['Negativo', 0.8574695150873042, 573], ['Positivo', 0.9727976310222374, 574], ['Positivo', 0.9909031585746346, 575], ['Neutro', 0.9446666660025529, 576], ['Positivo', 0.5984375252759847, 577], ['Positivo', 0.5031175073274124, 578], ['Positivo', 0.9894864277583857, 579], ['Negativo', 0.7447689850139736, 580], ['Positivo', 0.9890737838296831, 581], ['Negativo', 0.7470210191365795, 582], ['Positivo', 0.9989119368693945, 583], ['Negativo', 0.9902824163981668, 584], ['Positivo', 0.9995076004768961, 585], ['Positivo', 0.9890737838296831, 586], ['Positivo', 0.5040220977750072, 587], ['Positivo', 0.9995076004768961, 588], ['Positivo', 0.9838653369243833, 589], ['Positivo', 0.9933964473572486, 590], ['Positivo', 0.8019912333426806, 591], ['Positivo', 0.9951252987505222, 592], ['Positivo', 0.9992226922400946, 593], ['Positivo', 0.9224843612195356, 594], ['Positivo', 0.9982045613682802, 595], ['Positivo', 0.5725704928402442, 596], ['Positivo', 0.9992226922400946, 597], ['Positivo', 0.8823875639896065, 598], ['Positivo', 0.9963966997243845, 599], ['Positivo', 0.975370247929909, 600], ['Positivo', 0.9966488380360073, 602], ['Positivo', 0.9953175887838167, 603], ['Negativo', 0.6556282414781096, 604], ['Positivo', 0.9978339849091856, 605], ['Negativo', 0.9901140842953752, 606], ['Positivo', 0.8019912333426806, 607], ['Positivo', 0.8139435615329007, 608], ['Negativo', 0.8564100530321328, 609], ['Negativo', 0.9003774926303683, 610], ['Positivo', 0.9975378650352916, 611], ['Neutro', 0.9203274013148481, 612], ['Negativo', 0.9429293219351061, 613], ['Positivo', 0.8139435615329027, 614], ['Negativo', 0.8100207401725189, 616], ['Negativo', 0.9998340009817763, 617], ['Neutro', 0.9998173670092202, 618], ['Negativo', 0.9352811844447325, 619], ['Negativo', 0.9999405297853905, 620], ['Positivo', 0.9064346169261834, 621], ['Negativo', 0.7640758718276623, 622], ['Negativo', 0.8956169183125412, 623], ['Positivo', 0.9894996493343061, 624], ['Positivo', 0.9843473781669342, 625], ['Positivo', 0.7302048313480435, 626], ['Positivo', 0.9824672165479156, 627], ['Positivo', 0.554847165442933, 628], ['Positivo', 0.9385869915331532, 629], ['Positivo', 0.9747625966652025, 630], ['Positivo', 0.9990248938210712, 631], ['Positivo', 0.7412056228686306, 632], ['Positivo', 0.7302048313480435, 633], ['Neutro', 0.6267074253935274, 634], ['Positivo', 0.8868529362908423, 635], ['Positivo', 0.9890801041948781, 636], ['Positivo', 0.9953175887838167, 637], ['Positivo', 0.9721121008163389, 638], ['Negativo', 0.8093422791879314, 639], ['Positivo', 0.9349006262995603, 640], ['Positivo', 0.9843473781669342, 641], ['Positivo', 0.6275907168567305, 642], ['Negativo', 0.9896549128257195, 643], ['Neutro', 0.6206713812830957, 644], ['Negativo', 0.9496227147799202, 645], ['Negativo', 0.9930838376555257, 646], ['Positivo', 0.9905563583507261, 647], ['Neutro', 0.9558715372933293, 648], ['Positivo', 0.9992226922400946, 650], ['Positivo', 0.9972268987641587, 651], ['Positivo', 0.9890737838296831, 652], ['Negativo', 0.8278752162125875, 653], ['Positivo', 0.9741331129678066, 654], ['Positivo', 0.975370247929909, 655], ['Positivo', 0.9990606703223428, 656], ['Neutro', 0.6206713812830957, 657], ['Positivo', 0.9979322493131088, 658], ['Positivo', 0.9891083876715216, 659], ['Positivo', 0.9130171522430475, 660], ['Positivo', 0.9903981957265134, 661], ['Neutro', 0.533752723169991, 662], ['Positivo', 0.8107716854731823, 663], ['Positivo', 0.9995076004768961, 664], ['Negativo', 0.999652336521132, 665], ['Positivo', 0.5144850166148114, 666], ['Negativo', 0.8579526190222864, 667], ['Negativo', 0.8865452937370265, 668], ['Negativo', 0.7583344035851931, 669], ['Negativo', 0.9860477675166888, 670], ['Negativo', 0.9258837235982208, 671], ['Negativo', 0.8558846602713575, 672], ['Negativo', 0.9999690680752928, 673], ['Negativo', 0.985349112844217, 674], ['Negativo', 0.9979072574441432, 675], ['Negativo', 0.9670618119940935, 676], ['Negativo', 0.5768517795908782, 677], ['Negativo', 0.8673336175422777, 678], ['Negativo', 0.7796557500630882, 679], ['Negativo', 0.9845098435458071, 680], ['Positivo', 0.5040220977750307, 681], ['Negativo', 0.6243322382640853, 682], ['Positivo', 0.6275907168567367, 683], ['Negativo', 0.9945555526373313, 684], ['Negativo', 0.9870968003194831, 685], ['Negativo', 0.9936418483622007, 686], ['Negativo', 0.9913478217375173, 687], ['Negativo', 0.9697444000527333, 688], ['Negativo', 0.9973901664654551, 689], ['Negativo', 0.9734560161678886, 690], ['Negativo', 0.9926641784079958, 691], ['Negativo', 0.9697444000527333, 692], ['Negativo', 0.7796557500630882, 693], ['Negativo', 0.8257452641263381, 694], ['Negativo', 0.8093422791879314, 695], ['Negativo', 0.7796557500630882, 696], ['Negativo', 0.7796557500630882, 697], ['Negativo', 0.9793917049577847, 698], ['Negativo', 0.9896402438343499, 699], ['Negativo', 0.9972408534093392, 700], ['Negativo', 0.9092379223174679, 701], ['Negativo', 0.9003774926303683, 702], ['Negativo', 0.9003774926303683, 703], ['Negativo', 0.9938061812939603, 704], ['Negativo', 0.9926641784079958, 705], ['Negativo', 0.9003774926303683, 706], ['Negativo', 0.8093422791879314, 707], ['Positivo', 0.9524464805102476, 708]]\n"
     ]
    }
   ],
   "source": [
    "print(resultado)"
   ]
  }
 ],
 "metadata": {
  "interpreter": {
   "hash": "405a0b173c5cf5a11c5ff9c7de104f5a7664106e5ca03cea15627182b53f8b03"
  },
  "kernelspec": {
   "display_name": "Python 3.9.6 64-bit",
   "language": "python",
   "name": "python3"
  },
  "language_info": {
   "codemirror_mode": {
    "name": "ipython",
    "version": 3
   },
   "file_extension": ".py",
   "mimetype": "text/x-python",
   "name": "python",
   "nbconvert_exporter": "python",
   "pygments_lexer": "ipython3",
   "version": "3.9.6"
  },
  "orig_nbformat": 4
 },
 "nbformat": 4,
 "nbformat_minor": 2
}
