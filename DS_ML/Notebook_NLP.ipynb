{
 "cells": [
  {
   "cell_type": "code",
   "execution_count": 1,
   "metadata": {},
   "outputs": [],
   "source": [
    "import pandas as pd\n",
    "import json\n",
    "\n",
    "# TRATAMENTO DE TEXTOSS\n",
    "import nltk\n",
    "stopwords=nltk.corpus.stopwords.words('portuguese')\n",
    "from string import punctuation\n",
    "\n",
    "import unidecode\n",
    "\n",
    "# MODELO\n",
    "from sklearn.feature_extraction.text import TfidfVectorizer\n",
    "from sklearn.linear_model import LogisticRegression\n",
    "\n",
    "#VISUALIZAÇÃO\n",
    "import matplotlib.pyplot as plt\n",
    "%matplotlib inline\n",
    "import seaborn as sns"
   ]
  },
  {
   "cell_type": "code",
   "execution_count": 17,
   "metadata": {},
   "outputs": [],
   "source": [
    "df = pd.read_json(r'reviews_merge.json')\n",
    "df = df[['title','avaliacao']]\n"
   ]
  },
  {
   "cell_type": "code",
   "execution_count": 19,
   "metadata": {},
   "outputs": [
    {
     "ename": "LookupError",
     "evalue": "\n**********************************************************************\n  Resource \u001b[93mrslp\u001b[0m not found.\n  Please use the NLTK Downloader to obtain the resource:\n\n  \u001b[31m>>> import nltk\n  >>> nltk.download('rslp')\n  \u001b[0m\n  For more information see: https://www.nltk.org/data.html\n\n  Attempted to load \u001b[93mstemmers/rslp/step0.pt\u001b[0m\n\n  Searched in:\n    - 'C:\\\\Users\\\\Victor Melo/nltk_data'\n    - 'c:\\\\Users\\\\Victor Melo\\\\AppData\\\\Local\\\\Programs\\\\Python\\\\Python310\\\\nltk_data'\n    - 'c:\\\\Users\\\\Victor Melo\\\\AppData\\\\Local\\\\Programs\\\\Python\\\\Python310\\\\share\\\\nltk_data'\n    - 'c:\\\\Users\\\\Victor Melo\\\\AppData\\\\Local\\\\Programs\\\\Python\\\\Python310\\\\lib\\\\nltk_data'\n    - 'C:\\\\Users\\\\Victor Melo\\\\AppData\\\\Roaming\\\\nltk_data'\n    - 'C:\\\\nltk_data'\n    - 'D:\\\\nltk_data'\n    - 'E:\\\\nltk_data'\n    - ''\n**********************************************************************\n",
     "output_type": "error",
     "traceback": [
      "\u001b[1;31m---------------------------------------------------------------------------\u001b[0m",
      "\u001b[1;31mLookupError\u001b[0m                               Traceback (most recent call last)",
      "\u001b[1;32mc:\\Users\\Victor Melo\\Documents\\FATEC\\TG\\TG_FATEC_TAUBATE-\\DS_ML\\Notebook_NLP.ipynb Cell 3'\u001b[0m in \u001b[0;36m<cell line: 11>\u001b[1;34m()\u001b[0m\n\u001b[0;32m      <a href='vscode-notebook-cell:/c%3A/Users/Victor%20Melo/Documents/FATEC/TG/TG_FATEC_TAUBATE-/DS_ML/Notebook_NLP.ipynb#ch0000006?line=6'>7</a>\u001b[0m         frasessstemming\u001b[39m.\u001b[39mappend((comstemming, emocao))\n\u001b[0;32m      <a href='vscode-notebook-cell:/c%3A/Users/Victor%20Melo/Documents/FATEC/TG/TG_FATEC_TAUBATE-/DS_ML/Notebook_NLP.ipynb#ch0000006?line=7'>8</a>\u001b[0m     \u001b[39mreturn\u001b[39;00m frasessstemming\n\u001b[1;32m---> <a href='vscode-notebook-cell:/c%3A/Users/Victor%20Melo/Documents/FATEC/TG/TG_FATEC_TAUBATE-/DS_ML/Notebook_NLP.ipynb#ch0000006?line=10'>11</a>\u001b[0m frasescomstemming \u001b[39m=\u001b[39m fazstemmer(df)\n\u001b[0;32m     <a href='vscode-notebook-cell:/c%3A/Users/Victor%20Melo/Documents/FATEC/TG/TG_FATEC_TAUBATE-/DS_ML/Notebook_NLP.ipynb#ch0000006?line=11'>12</a>\u001b[0m \u001b[39mprint\u001b[39m(frasescomstemming)\n",
      "\u001b[1;32mc:\\Users\\Victor Melo\\Documents\\FATEC\\TG\\TG_FATEC_TAUBATE-\\DS_ML\\Notebook_NLP.ipynb Cell 3'\u001b[0m in \u001b[0;36mfazstemmer\u001b[1;34m(texto)\u001b[0m\n\u001b[0;32m      <a href='vscode-notebook-cell:/c%3A/Users/Victor%20Melo/Documents/FATEC/TG/TG_FATEC_TAUBATE-/DS_ML/Notebook_NLP.ipynb#ch0000006?line=0'>1</a>\u001b[0m \u001b[39mdef\u001b[39;00m \u001b[39mfazstemmer\u001b[39m(texto):\n\u001b[1;32m----> <a href='vscode-notebook-cell:/c%3A/Users/Victor%20Melo/Documents/FATEC/TG/TG_FATEC_TAUBATE-/DS_ML/Notebook_NLP.ipynb#ch0000006?line=1'>2</a>\u001b[0m     stemmer \u001b[39m=\u001b[39m nltk\u001b[39m.\u001b[39;49mstem\u001b[39m.\u001b[39;49mRSLPStemmer()\n\u001b[0;32m      <a href='vscode-notebook-cell:/c%3A/Users/Victor%20Melo/Documents/FATEC/TG/TG_FATEC_TAUBATE-/DS_ML/Notebook_NLP.ipynb#ch0000006?line=2'>3</a>\u001b[0m     frasessstemming \u001b[39m=\u001b[39m []\n\u001b[0;32m      <a href='vscode-notebook-cell:/c%3A/Users/Victor%20Melo/Documents/FATEC/TG/TG_FATEC_TAUBATE-/DS_ML/Notebook_NLP.ipynb#ch0000006?line=3'>4</a>\u001b[0m     \u001b[39mfor\u001b[39;00m (palavras, emocao) \u001b[39min\u001b[39;00m texto:\n",
      "File \u001b[1;32mc:\\Users\\Victor Melo\\AppData\\Local\\Programs\\Python\\Python310\\lib\\site-packages\\nltk\\stem\\rslp.py:56\u001b[0m, in \u001b[0;36mRSLPStemmer.__init__\u001b[1;34m(self)\u001b[0m\n\u001b[0;32m     <a href='file:///c%3A/Users/Victor%20Melo/AppData/Local/Programs/Python/Python310/lib/site-packages/nltk/stem/rslp.py?line=52'>53</a>\u001b[0m \u001b[39mdef\u001b[39;00m \u001b[39m__init__\u001b[39m(\u001b[39mself\u001b[39m):\n\u001b[0;32m     <a href='file:///c%3A/Users/Victor%20Melo/AppData/Local/Programs/Python/Python310/lib/site-packages/nltk/stem/rslp.py?line=53'>54</a>\u001b[0m     \u001b[39mself\u001b[39m\u001b[39m.\u001b[39m_model \u001b[39m=\u001b[39m []\n\u001b[1;32m---> <a href='file:///c%3A/Users/Victor%20Melo/AppData/Local/Programs/Python/Python310/lib/site-packages/nltk/stem/rslp.py?line=55'>56</a>\u001b[0m     \u001b[39mself\u001b[39m\u001b[39m.\u001b[39m_model\u001b[39m.\u001b[39mappend(\u001b[39mself\u001b[39;49m\u001b[39m.\u001b[39;49mread_rule(\u001b[39m\"\u001b[39;49m\u001b[39mstep0.pt\u001b[39;49m\u001b[39m\"\u001b[39;49m))\n\u001b[0;32m     <a href='file:///c%3A/Users/Victor%20Melo/AppData/Local/Programs/Python/Python310/lib/site-packages/nltk/stem/rslp.py?line=56'>57</a>\u001b[0m     \u001b[39mself\u001b[39m\u001b[39m.\u001b[39m_model\u001b[39m.\u001b[39mappend(\u001b[39mself\u001b[39m\u001b[39m.\u001b[39mread_rule(\u001b[39m\"\u001b[39m\u001b[39mstep1.pt\u001b[39m\u001b[39m\"\u001b[39m))\n\u001b[0;32m     <a href='file:///c%3A/Users/Victor%20Melo/AppData/Local/Programs/Python/Python310/lib/site-packages/nltk/stem/rslp.py?line=57'>58</a>\u001b[0m     \u001b[39mself\u001b[39m\u001b[39m.\u001b[39m_model\u001b[39m.\u001b[39mappend(\u001b[39mself\u001b[39m\u001b[39m.\u001b[39mread_rule(\u001b[39m\"\u001b[39m\u001b[39mstep2.pt\u001b[39m\u001b[39m\"\u001b[39m))\n",
      "File \u001b[1;32mc:\\Users\\Victor Melo\\AppData\\Local\\Programs\\Python\\Python310\\lib\\site-packages\\nltk\\stem\\rslp.py:65\u001b[0m, in \u001b[0;36mRSLPStemmer.read_rule\u001b[1;34m(self, filename)\u001b[0m\n\u001b[0;32m     <a href='file:///c%3A/Users/Victor%20Melo/AppData/Local/Programs/Python/Python310/lib/site-packages/nltk/stem/rslp.py?line=63'>64</a>\u001b[0m \u001b[39mdef\u001b[39;00m \u001b[39mread_rule\u001b[39m(\u001b[39mself\u001b[39m, filename):\n\u001b[1;32m---> <a href='file:///c%3A/Users/Victor%20Melo/AppData/Local/Programs/Python/Python310/lib/site-packages/nltk/stem/rslp.py?line=64'>65</a>\u001b[0m     rules \u001b[39m=\u001b[39m load(\u001b[39m\"\u001b[39;49m\u001b[39mnltk:stemmers/rslp/\u001b[39;49m\u001b[39m\"\u001b[39;49m \u001b[39m+\u001b[39;49m filename, \u001b[39mformat\u001b[39;49m\u001b[39m=\u001b[39;49m\u001b[39m\"\u001b[39;49m\u001b[39mraw\u001b[39;49m\u001b[39m\"\u001b[39;49m)\u001b[39m.\u001b[39mdecode(\u001b[39m\"\u001b[39m\u001b[39mutf8\u001b[39m\u001b[39m\"\u001b[39m)\n\u001b[0;32m     <a href='file:///c%3A/Users/Victor%20Melo/AppData/Local/Programs/Python/Python310/lib/site-packages/nltk/stem/rslp.py?line=65'>66</a>\u001b[0m     lines \u001b[39m=\u001b[39m rules\u001b[39m.\u001b[39msplit(\u001b[39m\"\u001b[39m\u001b[39m\\n\u001b[39;00m\u001b[39m\"\u001b[39m)\n\u001b[0;32m     <a href='file:///c%3A/Users/Victor%20Melo/AppData/Local/Programs/Python/Python310/lib/site-packages/nltk/stem/rslp.py?line=67'>68</a>\u001b[0m     lines \u001b[39m=\u001b[39m [line \u001b[39mfor\u001b[39;00m line \u001b[39min\u001b[39;00m lines \u001b[39mif\u001b[39;00m line \u001b[39m!=\u001b[39m \u001b[39m\"\u001b[39m\u001b[39m\"\u001b[39m]  \u001b[39m# remove blank lines\u001b[39;00m\n",
      "File \u001b[1;32mc:\\Users\\Victor Melo\\AppData\\Local\\Programs\\Python\\Python310\\lib\\site-packages\\nltk\\data.py:750\u001b[0m, in \u001b[0;36mload\u001b[1;34m(resource_url, format, cache, verbose, logic_parser, fstruct_reader, encoding)\u001b[0m\n\u001b[0;32m    <a href='file:///c%3A/Users/Victor%20Melo/AppData/Local/Programs/Python/Python310/lib/site-packages/nltk/data.py?line=746'>747</a>\u001b[0m     \u001b[39mprint\u001b[39m(\u001b[39mf\u001b[39m\u001b[39m\"\u001b[39m\u001b[39m<<Loading \u001b[39m\u001b[39m{\u001b[39;00mresource_url\u001b[39m}\u001b[39;00m\u001b[39m>>\u001b[39m\u001b[39m\"\u001b[39m)\n\u001b[0;32m    <a href='file:///c%3A/Users/Victor%20Melo/AppData/Local/Programs/Python/Python310/lib/site-packages/nltk/data.py?line=748'>749</a>\u001b[0m \u001b[39m# Load the resource.\u001b[39;00m\n\u001b[1;32m--> <a href='file:///c%3A/Users/Victor%20Melo/AppData/Local/Programs/Python/Python310/lib/site-packages/nltk/data.py?line=749'>750</a>\u001b[0m opened_resource \u001b[39m=\u001b[39m _open(resource_url)\n\u001b[0;32m    <a href='file:///c%3A/Users/Victor%20Melo/AppData/Local/Programs/Python/Python310/lib/site-packages/nltk/data.py?line=751'>752</a>\u001b[0m \u001b[39mif\u001b[39;00m \u001b[39mformat\u001b[39m \u001b[39m==\u001b[39m \u001b[39m\"\u001b[39m\u001b[39mraw\u001b[39m\u001b[39m\"\u001b[39m:\n\u001b[0;32m    <a href='file:///c%3A/Users/Victor%20Melo/AppData/Local/Programs/Python/Python310/lib/site-packages/nltk/data.py?line=752'>753</a>\u001b[0m     resource_val \u001b[39m=\u001b[39m opened_resource\u001b[39m.\u001b[39mread()\n",
      "File \u001b[1;32mc:\\Users\\Victor Melo\\AppData\\Local\\Programs\\Python\\Python310\\lib\\site-packages\\nltk\\data.py:876\u001b[0m, in \u001b[0;36m_open\u001b[1;34m(resource_url)\u001b[0m\n\u001b[0;32m    <a href='file:///c%3A/Users/Victor%20Melo/AppData/Local/Programs/Python/Python310/lib/site-packages/nltk/data.py?line=872'>873</a>\u001b[0m protocol, path_ \u001b[39m=\u001b[39m split_resource_url(resource_url)\n\u001b[0;32m    <a href='file:///c%3A/Users/Victor%20Melo/AppData/Local/Programs/Python/Python310/lib/site-packages/nltk/data.py?line=874'>875</a>\u001b[0m \u001b[39mif\u001b[39;00m protocol \u001b[39mis\u001b[39;00m \u001b[39mNone\u001b[39;00m \u001b[39mor\u001b[39;00m protocol\u001b[39m.\u001b[39mlower() \u001b[39m==\u001b[39m \u001b[39m\"\u001b[39m\u001b[39mnltk\u001b[39m\u001b[39m\"\u001b[39m:\n\u001b[1;32m--> <a href='file:///c%3A/Users/Victor%20Melo/AppData/Local/Programs/Python/Python310/lib/site-packages/nltk/data.py?line=875'>876</a>\u001b[0m     \u001b[39mreturn\u001b[39;00m find(path_, path \u001b[39m+\u001b[39;49m [\u001b[39m\"\u001b[39;49m\u001b[39m\"\u001b[39;49m])\u001b[39m.\u001b[39mopen()\n\u001b[0;32m    <a href='file:///c%3A/Users/Victor%20Melo/AppData/Local/Programs/Python/Python310/lib/site-packages/nltk/data.py?line=876'>877</a>\u001b[0m \u001b[39melif\u001b[39;00m protocol\u001b[39m.\u001b[39mlower() \u001b[39m==\u001b[39m \u001b[39m\"\u001b[39m\u001b[39mfile\u001b[39m\u001b[39m\"\u001b[39m:\n\u001b[0;32m    <a href='file:///c%3A/Users/Victor%20Melo/AppData/Local/Programs/Python/Python310/lib/site-packages/nltk/data.py?line=877'>878</a>\u001b[0m     \u001b[39m# urllib might not use mode='rb', so handle this one ourselves:\u001b[39;00m\n\u001b[0;32m    <a href='file:///c%3A/Users/Victor%20Melo/AppData/Local/Programs/Python/Python310/lib/site-packages/nltk/data.py?line=878'>879</a>\u001b[0m     \u001b[39mreturn\u001b[39;00m find(path_, [\u001b[39m\"\u001b[39m\u001b[39m\"\u001b[39m])\u001b[39m.\u001b[39mopen()\n",
      "File \u001b[1;32mc:\\Users\\Victor Melo\\AppData\\Local\\Programs\\Python\\Python310\\lib\\site-packages\\nltk\\data.py:583\u001b[0m, in \u001b[0;36mfind\u001b[1;34m(resource_name, paths)\u001b[0m\n\u001b[0;32m    <a href='file:///c%3A/Users/Victor%20Melo/AppData/Local/Programs/Python/Python310/lib/site-packages/nltk/data.py?line=580'>581</a>\u001b[0m sep \u001b[39m=\u001b[39m \u001b[39m\"\u001b[39m\u001b[39m*\u001b[39m\u001b[39m\"\u001b[39m \u001b[39m*\u001b[39m \u001b[39m70\u001b[39m\n\u001b[0;32m    <a href='file:///c%3A/Users/Victor%20Melo/AppData/Local/Programs/Python/Python310/lib/site-packages/nltk/data.py?line=581'>582</a>\u001b[0m resource_not_found \u001b[39m=\u001b[39m \u001b[39mf\u001b[39m\u001b[39m\"\u001b[39m\u001b[39m\\n\u001b[39;00m\u001b[39m{\u001b[39;00msep\u001b[39m}\u001b[39;00m\u001b[39m\\n\u001b[39;00m\u001b[39m{\u001b[39;00mmsg\u001b[39m}\u001b[39;00m\u001b[39m\\n\u001b[39;00m\u001b[39m{\u001b[39;00msep\u001b[39m}\u001b[39;00m\u001b[39m\\n\u001b[39;00m\u001b[39m\"\u001b[39m\n\u001b[1;32m--> <a href='file:///c%3A/Users/Victor%20Melo/AppData/Local/Programs/Python/Python310/lib/site-packages/nltk/data.py?line=582'>583</a>\u001b[0m \u001b[39mraise\u001b[39;00m \u001b[39mLookupError\u001b[39;00m(resource_not_found)\n",
      "\u001b[1;31mLookupError\u001b[0m: \n**********************************************************************\n  Resource \u001b[93mrslp\u001b[0m not found.\n  Please use the NLTK Downloader to obtain the resource:\n\n  \u001b[31m>>> import nltk\n  >>> nltk.download('rslp')\n  \u001b[0m\n  For more information see: https://www.nltk.org/data.html\n\n  Attempted to load \u001b[93mstemmers/rslp/step0.pt\u001b[0m\n\n  Searched in:\n    - 'C:\\\\Users\\\\Victor Melo/nltk_data'\n    - 'c:\\\\Users\\\\Victor Melo\\\\AppData\\\\Local\\\\Programs\\\\Python\\\\Python310\\\\nltk_data'\n    - 'c:\\\\Users\\\\Victor Melo\\\\AppData\\\\Local\\\\Programs\\\\Python\\\\Python310\\\\share\\\\nltk_data'\n    - 'c:\\\\Users\\\\Victor Melo\\\\AppData\\\\Local\\\\Programs\\\\Python\\\\Python310\\\\lib\\\\nltk_data'\n    - 'C:\\\\Users\\\\Victor Melo\\\\AppData\\\\Roaming\\\\nltk_data'\n    - 'C:\\\\nltk_data'\n    - 'D:\\\\nltk_data'\n    - 'E:\\\\nltk_data'\n    - ''\n**********************************************************************\n"
     ]
    }
   ],
   "source": [
    "def fazstemmer(texto):\n",
    "    stemmer = nltk.stem.RSLPStemmer()\n",
    "    frasessstemming = []\n",
    "    for (palavras, emocao) in texto:\n",
    "        comstemming = [str(stemmer.stem(p))\n",
    "                       for p in palavras.split() if p not in stopwords]\n",
    "        frasessstemming.append((comstemming, emocao))\n",
    "    return frasessstemming\n",
    " \n",
    " \n",
    "frasescomstemming = fazstemmer(df['title'])\n",
    "print(frasescomstemming)"
   ]
  },
  {
   "cell_type": "code",
   "execution_count": 18,
   "metadata": {},
   "outputs": [
    {
     "data": {
      "text/html": [
       "<div>\n",
       "<style scoped>\n",
       "    .dataframe tbody tr th:only-of-type {\n",
       "        vertical-align: middle;\n",
       "    }\n",
       "\n",
       "    .dataframe tbody tr th {\n",
       "        vertical-align: top;\n",
       "    }\n",
       "\n",
       "    .dataframe thead th {\n",
       "        text-align: right;\n",
       "    }\n",
       "</style>\n",
       "<table border=\"1\" class=\"dataframe\">\n",
       "  <thead>\n",
       "    <tr style=\"text-align: right;\">\n",
       "      <th></th>\n",
       "      <th>title</th>\n",
       "      <th>avaliacao</th>\n",
       "    </tr>\n",
       "  </thead>\n",
       "  <tbody>\n",
       "    <tr>\n",
       "      <th>0</th>\n",
       "      <td>Empresa dinâmica e agradável de trabalhar.</td>\n",
       "      <td>2.0</td>\n",
       "    </tr>\n",
       "    <tr>\n",
       "      <th>1</th>\n",
       "      <td>Não tem perspectiva de de crescimento de carreia</td>\n",
       "      <td>0.0</td>\n",
       "    </tr>\n",
       "    <tr>\n",
       "      <th>2</th>\n",
       "      <td>Foi uma boa experiencia</td>\n",
       "      <td>2.0</td>\n",
       "    </tr>\n",
       "    <tr>\n",
       "      <th>3</th>\n",
       "      <td>Empresa muito boa de se trabalhar, da oportuni...</td>\n",
       "      <td>2.0</td>\n",
       "    </tr>\n",
       "    <tr>\n",
       "      <th>4</th>\n",
       "      <td>Excelente empresa pra trabalhar</td>\n",
       "      <td>2.0</td>\n",
       "    </tr>\n",
       "    <tr>\n",
       "      <th>...</th>\n",
       "      <td>...</td>\n",
       "      <td>...</td>\n",
       "    </tr>\n",
       "    <tr>\n",
       "      <th>502</th>\n",
       "      <td>Boa</td>\n",
       "      <td>2.0</td>\n",
       "    </tr>\n",
       "    <tr>\n",
       "      <th>503</th>\n",
       "      <td>Empresa com bastante meta financeira</td>\n",
       "      <td>2.0</td>\n",
       "    </tr>\n",
       "    <tr>\n",
       "      <th>504</th>\n",
       "      <td>Uma empresa que adoece os funcionários</td>\n",
       "      <td>0.0</td>\n",
       "    </tr>\n",
       "    <tr>\n",
       "      <th>505</th>\n",
       "      <td>Sem duvidas, na epoca foi uma escolha excelent...</td>\n",
       "      <td>2.0</td>\n",
       "    </tr>\n",
       "    <tr>\n",
       "      <th>506</th>\n",
       "      <td>Empresa muito sólida</td>\n",
       "      <td>2.0</td>\n",
       "    </tr>\n",
       "  </tbody>\n",
       "</table>\n",
       "<p>507 rows × 2 columns</p>\n",
       "</div>"
      ],
      "text/plain": [
       "                                                 title  avaliacao\n",
       "0           Empresa dinâmica e agradável de trabalhar.        2.0\n",
       "1     Não tem perspectiva de de crescimento de carreia        0.0\n",
       "2                              Foi uma boa experiencia        2.0\n",
       "3    Empresa muito boa de se trabalhar, da oportuni...        2.0\n",
       "4                      Excelente empresa pra trabalhar        2.0\n",
       "..                                                 ...        ...\n",
       "502                                                Boa        2.0\n",
       "503               Empresa com bastante meta financeira        2.0\n",
       "504             Uma empresa que adoece os funcionários        0.0\n",
       "505  Sem duvidas, na epoca foi uma escolha excelent...        2.0\n",
       "506                               Empresa muito sólida        2.0\n",
       "\n",
       "[507 rows x 2 columns]"
      ]
     },
     "execution_count": 18,
     "metadata": {},
     "output_type": "execute_result"
    }
   ],
   "source": [
    "df"
   ]
  }
 ],
 "metadata": {
  "interpreter": {
   "hash": "a007c8b43fa0e4ea829fc148dd38d8a85738460b8a692730e9a3038d52bcd987"
  },
  "kernelspec": {
   "display_name": "Python 3.10.4 64-bit",
   "language": "python",
   "name": "python3"
  },
  "language_info": {
   "codemirror_mode": {
    "name": "ipython",
    "version": 3
   },
   "file_extension": ".py",
   "mimetype": "text/x-python",
   "name": "python",
   "nbconvert_exporter": "python",
   "pygments_lexer": "ipython3",
   "version": "3.10.4"
  },
  "orig_nbformat": 4
 },
 "nbformat": 4,
 "nbformat_minor": 2
}
